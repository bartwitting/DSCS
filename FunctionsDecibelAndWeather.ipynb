{
 "cells": [
  {
   "cell_type": "code",
   "execution_count": null,
   "metadata": {
    "collapsed": true
   },
   "outputs": [],
   "source": [
    "import os\n",
    "import json"
   ]
  },
  {
   "cell_type": "code",
   "execution_count": null,
   "metadata": {},
   "outputs": [],
   "source": [
    "def WifiNum():\n",
    "    with open('mac_adresses.json') as f:\n",
    "        data = json.load(f)\n",
    "\n",
    "    all_cellphones = [x for x in data['cellphones']]\n",
    "    threshold = -67 #Around 10 meters\n",
    "    cellphones_within_threshold = [x for x in all_cellphones if x['rssi'] > threshold]\n",
    "\n",
    "    return (len(cellphones_within_threshold))\n",
    "\n",
    "WifiNum()"
   ]
  },
  {
   "cell_type": "code",
   "execution_count": null,
   "metadata": {
    "collapsed": true
   },
   "outputs": [],
   "source": [
    "def DecibelNum():\n",
    "    import random\n",
    "\n",
    "    declist=[]\n",
    "    for i in range(5):\n",
    "        declist.append(random.randint(30,130))\n",
    "        \n",
    "    dec = sum(declist)/len(declist)\n",
    "    return dec\n",
    "\n",
    "DecibelNum()"
   ]
  },
  {
   "cell_type": "code",
   "execution_count": null,
   "metadata": {
    "collapsed": true
   },
   "outputs": [],
   "source": []
  }
 ],
 "metadata": {
  "kernelspec": {
   "display_name": "Python 3",
   "language": "python",
   "name": "python3"
  },
  "language_info": {
   "codemirror_mode": {
    "name": "ipython",
    "version": 3
   },
   "file_extension": ".py",
   "mimetype": "text/x-python",
   "name": "python",
   "nbconvert_exporter": "python",
   "pygments_lexer": "ipython3",
   "version": "3.6.3"
  }
 },
 "nbformat": 4,
 "nbformat_minor": 2
}
