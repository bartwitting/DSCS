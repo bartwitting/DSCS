{
 "cells": [
  {
   "cell_type": "code",
   "execution_count": null,
   "metadata": {
    "collapsed": true
   },
   "outputs": [],
   "source": [
    "import os\n",
    "import json\n",
    "import random"
   ]
  },
  {
   "cell_type": "code",
   "execution_count": null,
   "metadata": {},
   "outputs": [],
   "source": [
    "def WifiNum():\n",
    "    #update functie van het json bestand hier toevoegen\n",
    "    with open('mac_adresses.json') as f:\n",
    "        data = json.load(f)\n",
    "\n",
    "    all_cellphones = [x for x in data['cellphones']]\n",
    "    threshold = -67 #Around 10 meters\n",
    "    cellphones_within_threshold = [x for x in all_cellphones if x['rssi'] > threshold]\n",
    "\n",
    "    return (len(cellphones_within_threshold))\n",
    "\n",
    "WifiNum()"
   ]
  },
  {
   "cell_type": "code",
   "execution_count": null,
   "metadata": {},
   "outputs": [],
   "source": [
    "def DecibelNum():\n",
    "    declist=[]\n",
    "    for i in range(5):\n",
    "        declist.append(random.randint(30,130))\n",
    "        \n",
    "    dec = sum(declist)/len(declist)\n",
    "    return dec\n",
    "\n",
    "DecibelNum()"
   ]
  },
  {
   "cell_type": "code",
   "execution_count": null,
   "metadata": {
    "collapsed": true
   },
   "outputs": [],
   "source": [
    "API_key = '6ff7fde73bb9cccf854fd26d31b4fe6d'\n",
    "owm = OWM(API_key)\n",
    "\n",
    "def WeatherNum() :\n",
    "    "
   ]
  }
 ],
 "metadata": {
  "kernelspec": {
   "display_name": "Python 3",
   "language": "python",
   "name": "python3"
  },
  "language_info": {
   "codemirror_mode": {
    "name": "ipython",
    "version": 3
   },
   "file_extension": ".py",
   "mimetype": "text/x-python",
   "name": "python",
   "nbconvert_exporter": "python",
   "pygments_lexer": "ipython3",
   "version": "3.6.3"
  }
 },
 "nbformat": 4,
 "nbformat_minor": 2
}
