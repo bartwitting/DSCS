{
 "cells": [
  {
   "cell_type": "code",
   "execution_count": null,
   "metadata": {},
   "outputs": [],
   "source": [
    "import os\n",
    "import json\n",
    "import random\n",
    "from pyowm import OWM\n",
    "from pyowm.caches.lrucache import LRUCache"
   ]
  },
  {
   "cell_type": "code",
   "execution_count": null,
   "metadata": {},
   "outputs": [],
   "source": [
    "def filebuild():\n",
    "    if os.path.exists(\"mac_adresses6.json\"):\n",
    "        os.remove(\"mac_adresses6.json\")\n",
    "        #print(\"Remove\")\n",
    "    else: \n",
    "        os.system(\"howmanypeoplearearound --out mac_adresses6.json --adapter en0 --scantime 20 --sort\")\n",
    "        #print(\"Build\")\n",
    "        \n",
    "def WifiNum() :\n",
    "    # https://github.com/schollz/howmanypeoplearearound\n",
    "\n",
    "    filebuild()\n",
    "\n",
    "    # This piece of code uses the Wi-Fi adapter to track the amount of active phones around\n",
    "    #os.system(\"howmanypeoplearearound --out hoidoeiyooppo.json --adapter en0 --sort\")\n",
    "\n",
    "    with open('mac_adresses6.json') as f:\n",
    "        data = json.load(f)\n",
    "\n",
    "    all_cellphones = [x for x in data['cellphones']]\n",
    "    threshold = -67 #Around 10 meters\n",
    "    cellphones_within_threshold = [x for x in all_cellphones if x['rssi'] > threshold]\n",
    "\n",
    "    print (len(cellphones_within_threshold))\n",
    "\n",
    "    #####################\n",
    "    #Calculates the distance\n",
    "    #####################\n",
    "    # Power = waarde op 1 meter afstand\n",
    "\n",
    "    # Constant depends on the Environmental factor. Range 2-4\n",
    "\n",
    "    #Power = -47.27906976744186\n",
    "    #RSSI = -67\n",
    "    #N = 2\n",
    "\n",
    "    #Distance = 10**((int(Power)-int(RSSI))/(10 * int(N)))\n",
    "    #print(Distance)\n",
    "    filebuild()\n",
    "    return len(cellphones_within_threshold)\n",
    "WifiNum()"
   ]
  },
  {
   "cell_type": "code",
   "execution_count": null,
   "metadata": {},
   "outputs": [],
   "source": [
    "def DecibelNum():\n",
    "    declist=[]\n",
    "    for i in range(5):\n",
    "        declist.append(random.randint(30,130))\n",
    "        \n",
    "    dec = sum(declist)/len(declist)\n",
    "    return dec\n",
    "\n",
    "DecibelNum()"
   ]
  },
  {
   "cell_type": "code",
   "execution_count": null,
   "metadata": {},
   "outputs": [],
   "source": [
    "API_key = '6ff7fde73bb9cccf854fd26d31b4fe6d'\n",
    "owm = OWM(API_key)\n",
    "cache = LRUCache()\n",
    "def WeatherNum() :\n",
    "    place = owm.weather_at_place('Muiden,NL')\n",
    "    weathercall = place.get_weather()\n",
    "    cloudiness = weathercall.get_clouds()\n",
    "    rain_status = weathercall.get_rain()\n",
    "    if len(rain_status) > 0:\n",
    "        rkeys = list(rain_status.keys())\n",
    "        rain_mm = rain_status[rkeys[0]]\n",
    "    else:\n",
    "        rain_mm = 0\n",
    "    temperature = weathercall.get_temperature(unit='celsius')['temp']\n",
    "\n",
    "    return [cloudiness,rain_mm, temperature]\n",
    "    \n",
    "WeatherNum()"
   ]
  },
  {
   "cell_type": "code",
   "execution_count": null,
   "metadata": {},
   "outputs": [],
   "source": [
    "def getNums() :\n",
    "    numPeople = WifiNum()\n",
    "    decibel = DecibelNum()\n",
    "    weather = WeatherNum()\n",
    "    temperature = weather[2]\n",
    "    clouds = weather[0]\n",
    "    rain = weather[1]\n",
    "    \n",
    "    return decibel, numPeople, temperature, rain, clouds\n",
    "\n",
    "getNums()"
   ]
  },
  {
   "cell_type": "code",
   "execution_count": null,
   "metadata": {},
   "outputs": [],
   "source": []
  }
 ],
 "metadata": {
  "kernelspec": {
   "display_name": "Python 3",
   "language": "python",
   "name": "python3"
  },
  "language_info": {
   "codemirror_mode": {
    "name": "ipython",
    "version": 3
   },
   "file_extension": ".py",
   "mimetype": "text/x-python",
   "name": "python",
   "nbconvert_exporter": "python",
   "pygments_lexer": "ipython3",
   "version": "3.7.6"
  }
 },
 "nbformat": 4,
 "nbformat_minor": 2
}
