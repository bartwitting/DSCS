{
 "cells": [
  {
   "cell_type": "markdown",
   "metadata": {},
   "source": [
    "# Uitleg over de functie"
   ]
  },
  {
   "cell_type": "markdown",
   "metadata": {},
   "source": []
  },
  {
   "cell_type": "markdown",
   "metadata": {},
   "source": [
    "# Setup"
   ]
  },
  {
   "cell_type": "code",
   "execution_count": 2,
   "metadata": {},
   "outputs": [],
   "source": [
    "import os\n",
    "import json\n",
    "import random\n",
    "from pyowm import OWM\n",
    "from pyowm.caches.lrucache import LRUCache\n",
    "import datetime\n",
    "import math\n",
    "import subprocess\n",
    "from statistics import mean\n",
    "\n",
    "import sys\n",
    "import spotipy\n",
    "import spotipy.util as util\n",
    "import pandas as pd\n",
    "import numpy as np\n",
    "sp = spotipy.Spotify()"
   ]
  },
  {
   "cell_type": "code",
   "execution_count": 3,
   "metadata": {},
   "outputs": [],
   "source": [
    "def get_playlist_tracks(credentials,username,playlist_id):\n",
    "    #set scope to retreive public data\n",
    "    scope_playlist = 'playlist-modify-public'\n",
    "    #provide token using given credentials\n",
    "    #credentials are: username, public key, private key and redirect_uri\n",
    "    token = util.prompt_for_user_token(credentials[0],scope_playlist,credentials[1],credentials[2],credentials[3])\n",
    "    sp = spotipy.Spotify(auth=token)\n",
    "    #get tracklisting from playlist data\n",
    "    results = sp.user_playlist_tracks(username,playlist_id)\n",
    "    tracks = results['items']\n",
    "    #ensure collection of data after more than 100 requests\n",
    "    while results['next']:\n",
    "        results = sp.next(results)\n",
    "        tracks.extend(results['items'])\n",
    "    return tracks\n",
    "\n",
    "def get_features(tracks):\n",
    "    #set scope to retreive public data\n",
    "    scope_playlist = 'playlist-modify-public'\n",
    "    #provide token using given credentials\n",
    "    #credentials are: username, public key, private key and redirect_uri\n",
    "    token = util.prompt_for_user_token(credentials[0],scope_playlist,credentials[1],credentials[2],credentials[3])\n",
    "    sp = spotipy.Spotify(auth=token)\n",
    "    #make empty list to collect dictionaries for dataframe\n",
    "    dataframe = []\n",
    "    for x in tracks:\n",
    "        try:\n",
    "            track = x['track']\n",
    "            #get audio features per track\n",
    "            feat = (sp.audio_features(tracks=[track['id']])[0])\n",
    "            #get track and artist info\n",
    "            art_dict = {'artist':track['artists'][0]['name'], 'title':track['name'], 'popularity':track['popularity']}\n",
    "            #combine both dictionaries\n",
    "            art_dict.update(feat)\n",
    "            #make dataframe from dictionary\n",
    "            dataframe.append(art_dict)\n",
    "        except:\n",
    "            print(\"Oh no!\",sys.exc_info()[0],\"happend\")\n",
    "    #filter dataframe to neccesary columns\n",
    "    df = pd.DataFrame(dataframe)\n",
    "    df = df.filter(['title', 'artist', 'danceability','energy', 'loudness', 'tempo','valence', 'popularity','id'])\n",
    "    df = df.set_index('title')\n",
    "    return df\n",
    "\n",
    "def add_tracks_from_df(credentials,playlist,dataframe,features):\n",
    "    scope_playlist = 'playlist-modify-public'\n",
    "    token = util.prompt_for_user_token(credentials[0],scope_playlist,credentials[1],credentials[2],credentials[3])\n",
    "    sp = spotipy.Spotify(auth=token)\n",
    "    #make selection based on feature input\n",
    "    selection = dataframe.loc[(dataframe['danceability'].between(features[0]-0.1, features[0]+0.1, inclusive=False)) &\\\n",
    "    (dataframe['energy'].between(features[1]-0.2, features[1]+0.2, inclusive=False)) &\\\n",
    "    (dataframe['loudness'].between(features[2]-5, features[2]+5, inclusive=False)) &\\\n",
    "    (dataframe['tempo'].between(features[3]-40, features[3]+40, inclusive=False)) &\\\n",
    "    (dataframe['valence'].between(features[4]-0.5, features[4]+0.5, inclusive=False)) &\\\n",
    "    #remove unwanted artists\n",
    "    (~dataframe['artist'].isin(['Ariana Grande']))]\n",
    "    selection.sort_values(by=['popularity'], ascending=False)\n",
    "    songs = selection['id'].tolist()\n",
    "    \n",
    "    scope_playlist = 'playlist-modify-public'\n",
    "    token2 = util.prompt_for_user_token(credentials[0],scope_playlist,credentials[1],credentials[2],credentials[3])\n",
    "    sp2 = spotipy.Spotify(auth=token2)\n",
    "    sp2.user_playlist_add_tracks(credentials[0],playlist, songs)\n",
    "    print(\"Songs Succesfully Added to Playlist\")\n",
    "    \n",
    "def remove_tracks_from_df(credentials,playlist,dataframe,features):\n",
    "    scope_playlist = 'playlist-modify-public'\n",
    "    token = util.prompt_for_user_token(credentials[0],scope_playlist,credentials[1],credentials[2],credentials[3])\n",
    "    sp = spotipy.Spotify(auth=token)\n",
    "    selection = dataframe.loc[(dataframe['danceability'].between(features[0]-0.1, features[0]+0.1, inclusive=False)) &\\\n",
    "    (dataframe['energy'].between(features[1]-0.2, features[1]+0.2, inclusive=False)) &\\\n",
    "    (dataframe['loudness'].between(features[2]-5, features[2]+5, inclusive=False)) &\\\n",
    "    (dataframe['tempo'].between(features[3]-40, features[3]+40, inclusive=False)) &\\\n",
    "    (dataframe['valence'].between(features[4]-0.5, features[4]+0.5, inclusive=False))]\n",
    "    selection.sort_values(by=['popularity'], ascending=False)\n",
    "    songs = selection['id'].tolist()\n",
    "    \n",
    "    scope_playlist = 'playlist-modify-public'\n",
    "    token2 = util.prompt_for_user_token(credentials[0],scope_playlist,credentials[1],credentials[2],credentials[3])\n",
    "    sp2 = spotipy.Spotify(auth=token2)\n",
    "    sp2.user_playlist_remove_all_occurrences_of_tracks(credentials[0],playlist, songs)\n",
    "    print(\"Songs Succesfully Removed from Playlist\")"
   ]
  },
  {
   "cell_type": "code",
   "execution_count": 4,
   "metadata": {},
   "outputs": [
    {
     "name": "stdout",
     "output_type": "stream",
     "text": [
      "\n",
      "\n",
      "            User authentication requires interaction with your\n",
      "            web browser. Once you enter your credentials and\n",
      "            give authorization, you will be redirected to\n",
      "            a url.  Paste that url you were directed to to\n",
      "            complete the authorization.\n",
      "\n",
      "        \n",
      "Opened https://accounts.spotify.com/authorize?client_id=5711bc132b4c48ceb5bbd19cd65b1e63&response_type=code&redirect_uri=http%3A%2F%2Flocalhost&scope=playlist-modify-public in your browser\n",
      "\n",
      "\n",
      "Enter the URL you were redirected to: http://localhost/?code=AQAbx-oToJeMH4h0d7wP8BCpSQ34HzxElGkDv362h9KlzfY0vLerxYNFL1vlA9W-zyXppwwbpltdPxJ1Ql8kthukWCNpOocfPBFmVLcj-ZxDM4r_qzFCdUyBMmLPGOLU2oxOw7C6sdPB2WggJhERqe4ea4JWHcUk4lMYbeY2gJ8yHbVAcy9AiDT4_LlcTJuehKjFyKyvh4AYVca6nSc\n",
      "\n",
      "\n"
     ]
    }
   ],
   "source": [
    "credentials = ['bartw26396', '5711bc132b4c48ceb5bbd19cd65b1e63', 'f507991961c948d8bf1b62ae6ef5ab15', 'http://localhost']\n",
    "tracklist = get_playlist_tracks(credentials, 'tillyxh','1TFZPafSKEeh31U9fky1vW')"
   ]
  },
  {
   "cell_type": "code",
   "execution_count": 5,
   "metadata": {},
   "outputs": [
    {
     "name": "stdout",
     "output_type": "stream",
     "text": [
      "retrying ...2secs\n",
      "retrying ...8secs\n",
      "retrying ...7secs\n",
      "retrying ...6secs\n",
      "retrying ...7secs\n",
      "retrying ...8secs\n",
      "retrying ...7secs\n",
      "retrying ...7secs\n",
      "retrying ...7secs\n"
     ]
    }
   ],
   "source": [
    "musicData = get_features(tracklist)"
   ]
  },
  {
   "cell_type": "code",
   "execution_count": 6,
   "metadata": {},
   "outputs": [],
   "source": [
    "#ranges\n",
    "\n",
    "decibel_low= range(0,50)\n",
    "decibel_medium= range(50,70)\n",
    "decibel_noise= range(70,90)\n",
    "decibel_loud= range(90,151)\n",
    "\n",
    "decibel_list= [(\"decibel_low\",decibel_low), (\"decibel_medium\",decibel_medium), (\"decibel_noise\",decibel_noise), (\"decibel_loud\",decibel_loud)]\n",
    "\n",
    "people_little= range(0,10)\n",
    "people_medium= range(10,20)\n",
    "people_busy= range(20,30)\n",
    "people_crowded= range(30,101)\n",
    "\n",
    "people_list= [('people_little',people_little), ('people_medium',people_medium), ('people_busy',people_busy), ('people_crowded',people_crowded)]\n",
    "\n",
    "temperature_freezing= range(-10, 5)\n",
    "temperature_cold= range(5,15)\n",
    "temperature_warm= range(15,25)\n",
    "temperature_hot= range(25,45)\n",
    "\n",
    "temperature_list = [('temperature_freezing',temperature_freezing), ('temperature_cold',temperature_cold) , ('temperature_warm',temperature_warm), ('temperature_hot',temperature_hot)]\n",
    "\n",
    "rain_little= range(0,20)\n",
    "rain_some= range(20,40)\n",
    "rain_medium= range(40,60)\n",
    "rain_much= range(60,80)\n",
    "rain_heavy = range(80,101)\n",
    "\n",
    "rain_list= [('rain_little',rain_little ), ('rain_some',rain_some), ('rain_medium',rain_medium), ('rain_much',rain_much), ('rain_heavy',rain_heavy)]\n",
    "\n",
    "clouds_little= range(0,20)\n",
    "clouds_some= range(20,40)\n",
    "clouds_medium= range(40,60)\n",
    "clouds_much= range(60,80)\n",
    "clouds_only= range(80,101)\n",
    "\n",
    "clouds_list= [('clouds_little',clouds_little), ('clouds_some',clouds_some), ('clouds_medium',clouds_medium), ('clouds_much',clouds_much), ('clouds_only',clouds_only)]\n",
    "\n",
    "time_early= range(9,11)\n",
    "time_beforelunch= range(11,13)\n",
    "time_afterlunch= range(13,17)\n",
    "time_closing= range(17,18)\n",
    "\n",
    "time_list= [('time_early',time_early), ('time_beforelunch',time_beforelunch), ('time_afterlunch',time_afterlunch), ('time_closing',time_closing)]\n"
   ]
  },
  {
   "cell_type": "markdown",
   "metadata": {},
   "source": [
    "# Retrieving Surrounding Data"
   ]
  },
  {
   "cell_type": "code",
   "execution_count": 7,
   "metadata": {},
   "outputs": [],
   "source": [
    "def filebuild():\n",
    "    if os.path.exists(\"mac_adresses6.json\"):\n",
    "        os.remove(\"mac_adresses6.json\")\n",
    "        #print(\"Remove\")\n",
    "    else: \n",
    "        os.system(\"howmanypeoplearearound --out mac_adresses6.json --adapter en0 --scantime 20 --sort\")\n",
    "        #print(\"Build\")\n",
    "        \n",
    "def WifiNum() :\n",
    "    # https://github.com/schollz/howmanypeoplearearound\n",
    "\n",
    "    filebuild()\n",
    "\n",
    "    # This piece of code uses the Wi-Fi adapter to track the amount of active phones around\n",
    "    #os.system(\"howmanypeoplearearound --out hoidoeiyooppo.json --adapter en0 --sort\")\n",
    "\n",
    "    with open('mac_adresses6.json') as f:\n",
    "        data = json.load(f)\n",
    "\n",
    "    all_cellphones = [x for x in data['cellphones']]\n",
    "    threshold = -67 #Around 10 meters\n",
    "    cellphones_within_threshold = [x for x in all_cellphones if x['rssi'] > threshold]\n",
    "\n",
    "    print (len(cellphones_within_threshold))\n",
    "\n",
    "    #####################\n",
    "    #Calculates the distance\n",
    "    #####################\n",
    "    # Power = waarde op 1 meter afstand\n",
    "\n",
    "    # Constant depends on the Environmental factor. Range 2-4\n",
    "\n",
    "    #Power = -47.27906976744186\n",
    "    #RSSI = -67\n",
    "    #N = 2\n",
    "\n",
    "    #Distance = 10**((int(Power)-int(RSSI))/(10 * int(N)))\n",
    "    #print(Distance)\n",
    "    filebuild()\n",
    "    return len(cellphones_within_threshold)\n",
    "#WifiNum()"
   ]
  },
  {
   "cell_type": "code",
   "execution_count": 8,
   "metadata": {},
   "outputs": [],
   "source": [
    "def DecibelNum():\n",
    "    #Install program, if installed this can also be removed from the formula\n",
    "    os.system('pip install soundmeter') \n",
    "\n",
    "    #Collect the sound for a period of time of 5seconds\n",
    "    batcmd=\"soundmeter --collect --seconds 5\" \n",
    "\n",
    "    #Get the terminal result\n",
    "    result1 = subprocess.check_output(batcmd, shell=True) \n",
    "\n",
    "    #Get the average rms from the x seconds measurement out of the terminal string (limited to 120db)\n",
    "    average_rms = int(result1[-7:-1])\n",
    "\n",
    "    #Convert the RMS value to Db(a)\n",
    "    amount_of_db = 20 * math.log10(average_rms)\n",
    "\n",
    "    #round to two decimal\n",
    "    amount_of_db_rounded = round(amount_of_db, 2)\n",
    "    \n",
    "    return amount_of_db_rounded\n",
    "#DecibelNum()"
   ]
  },
  {
   "cell_type": "code",
   "execution_count": 9,
   "metadata": {},
   "outputs": [],
   "source": [
    "def DecibelNum2():\n",
    "    declist=[]\n",
    "    for i in range(5):\n",
    "        declist.append(random.randint(30,130))\n",
    "        \n",
    "    dec = sum(declist)/len(declist)\n",
    "    return dec\n",
    "\n",
    "#DecibelNum2()"
   ]
  },
  {
   "cell_type": "code",
   "execution_count": 10,
   "metadata": {
    "scrolled": false
   },
   "outputs": [],
   "source": [
    "API_key = '6ff7fde73bb9cccf854fd26d31b4fe6d'\n",
    "owm = OWM(API_key)\n",
    "cache = LRUCache()\n",
    "def WeatherNum() :\n",
    "    place = owm.weather_at_place('Muiden,NL')\n",
    "    weathercall = place.get_weather()\n",
    "    cloudiness = weathercall.get_clouds()\n",
    "    rain_status = weathercall.get_rain()\n",
    "    if len(rain_status) > 0:\n",
    "        rkeys = list(rain_status.keys())\n",
    "        rain_mm = rain_status[rkeys[0]]\n",
    "    else:\n",
    "        rain_mm = 0\n",
    "    temperature = weathercall.get_temperature(unit='celsius')['temp']\n",
    "\n",
    "    return [cloudiness,rain_mm, temperature]\n",
    "    \n",
    "#WeatherNum()"
   ]
  },
  {
   "cell_type": "code",
   "execution_count": 12,
   "metadata": {},
   "outputs": [
    {
     "name": "stdout",
     "output_type": "stream",
     "text": [
      "12\n"
     ]
    },
    {
     "data": {
      "text/plain": [
       "(72.24, 12, 12.01, 0, 75, 16)"
      ]
     },
     "execution_count": 12,
     "metadata": {},
     "output_type": "execute_result"
    }
   ],
   "source": [
    "def getNums() :\n",
    "    numPeople = WifiNum()\n",
    "    decibel = DecibelNum()\n",
    "    weather = WeatherNum()\n",
    "    temperature = weather[2]\n",
    "    clouds = weather[0]\n",
    "    rain = weather[1]\n",
    "    now = datetime.datetime.now()\n",
    "    time = now.hour\n",
    "    \n",
    "    return decibel, numPeople, temperature, rain, clouds, time\n",
    "\n",
    "numbers = getNums()\n",
    "numbers"
   ]
  },
  {
   "cell_type": "markdown",
   "metadata": {},
   "source": [
    "# Setting parameters"
   ]
  },
  {
   "cell_type": "code",
   "execution_count": 13,
   "metadata": {},
   "outputs": [],
   "source": [
    "def Parameter_ranges(decibel, people, temperature, rain, clouds, time):\n",
    "    ruis_range= str\n",
    "    mensen_range = str\n",
    "    temp_range = str\n",
    "    regen_range = str\n",
    "    wolk_range = str\n",
    "    uur_range = str\n",
    "    \n",
    "    for ruis in decibel_list:\n",
    "        for db in ruis[1]:\n",
    "            if db == decibel:\n",
    "                ruis_range = ruis[0]\n",
    "            \n",
    "    for mensen in people_list:\n",
    "        for mens in mensen[1]:\n",
    "            if mens==people:\n",
    "                mensen_range = mensen[0]\n",
    "            \n",
    "    for temp in temperature_list:\n",
    "        for c in temp[1]:\n",
    "            if c==temperature:\n",
    "                temp_range = temp[0]\n",
    "    \n",
    "    for regen in rain_list:\n",
    "        for m in regen[1]:\n",
    "            if m==rain:\n",
    "                regen_range = regen[0]\n",
    "            \n",
    "    for wolk in clouds_list:\n",
    "        for w in wolk[1]:\n",
    "            if w==clouds:\n",
    "                wolk_range = wolk[0]\n",
    "    \n",
    "    for uur in time_list:\n",
    "        for s in uur[1]:\n",
    "            if s==time:\n",
    "                uur_range = uur[0]\n",
    "    \n",
    "    return ruis_range, mensen_range, temp_range, regen_range, wolk_range, uur_range"
   ]
  },
  {
   "cell_type": "code",
   "execution_count": 14,
   "metadata": {
    "scrolled": true
   },
   "outputs": [
    {
     "data": {
      "text/plain": [
       "('decibel_medium',\n",
       " 'people_medium',\n",
       " 'temperature_warm',\n",
       " 'rain_heavy',\n",
       " 'clouds_only',\n",
       " 'time_afterlunch')"
      ]
     },
     "execution_count": 14,
     "metadata": {},
     "output_type": "execute_result"
    }
   ],
   "source": [
    "Parameter_ranges(50, 10, 20, 100, 100, 15)"
   ]
  },
  {
   "cell_type": "code",
   "execution_count": 15,
   "metadata": {},
   "outputs": [],
   "source": [
    "def Danceability(decibel, people, temperature, rain, clouds, time):\n",
    "    \n",
    "    parameter_returns= Parameter_ranges(decibel, people, temperature, rain, clouds, time)\n",
    "    \n",
    "    score_ruis= 0\n",
    "    score_mens= 0\n",
    "    score_temp= 0\n",
    "    score_regen= 0\n",
    "    score_wolk= 0 \n",
    "    score_uur = 0\n",
    "    score_total = 0\n",
    "    \n",
    "    decibel_tuple= [(\"decibel_low\", 9), (\"decibel_medium\",7), (\"decibel_noise\",6),(\"decibel_loud\",3)]\n",
    "    people_tuple= [('people_little',9), ('people_medium',7), ('people_busy',5), ('people_crowded',4)]\n",
    "    temperature_tuple = [('temperature_freezing',4), ('temperature_cold',6) , ('temperature_warm',8), ('temperature_hot',9)]\n",
    "    rain_tuple = [('rain_little',9), ('rain_some',7), ('rain_medium',6), ('rain_much',4), ('rain_heavy',3)]\n",
    "    clouds_tuple = [('clouds_little',9), ('clouds_some',7), ('clouds_medium',6), ('clouds_much',5), ('clouds_only',4)]\n",
    "    time_tuple = [('time_early',5), ('time_beforelunch',7), ('time_afterlunch',9), ('time_closing',5)]\n",
    "    \n",
    "    for x in decibel_tuple:\n",
    "        if x[0] == parameter_returns[0]:\n",
    "            score_ruis = x[1]*30\n",
    "    \n",
    "    for x in people_tuple:\n",
    "        if x[0] == parameter_returns[1]:\n",
    "            score_mens = x[1]*20\n",
    "            \n",
    "    for x in temperature_tuple:\n",
    "        if x[0] == parameter_returns[2]:\n",
    "            score_temp = x[1]*15\n",
    "    \n",
    "    for x in rain_tuple:\n",
    "        if x[0] == parameter_returns[3]:\n",
    "            score_regen = x[1]*5\n",
    "    \n",
    "    for x in clouds_tuple:\n",
    "        if x[0] == parameter_returns[4]:\n",
    "            score_wolk = x[1]*10\n",
    "    \n",
    "    for x in time_tuple:\n",
    "        if x[0] == parameter_returns[5]:\n",
    "            score_uur = x[1]*20\n",
    "    \n",
    "    da_total= (score_ruis + score_mens + score_temp + score_regen + score_wolk + score_uur)/1000\n",
    "    return da_total\n",
    "\n"
   ]
  },
  {
   "cell_type": "code",
   "execution_count": 16,
   "metadata": {},
   "outputs": [
    {
     "data": {
      "text/plain": [
       "0.71"
      ]
     },
     "execution_count": 16,
     "metadata": {},
     "output_type": "execute_result"
    }
   ],
   "source": [
    "Danceability(80, 35, 35, 0, 0, 14)"
   ]
  },
  {
   "cell_type": "code",
   "execution_count": 17,
   "metadata": {},
   "outputs": [],
   "source": [
    "def Energy(decibel, people, temperature, rain, clouds, time):\n",
    "    \n",
    "    parameter_returns= Parameter_ranges(decibel, people, temperature, rain, clouds, time)\n",
    "    \n",
    "    score_ruis= 0\n",
    "    score_mens= 0\n",
    "    score_temp= 0\n",
    "    score_regen= 0\n",
    "    score_wolk= 0 \n",
    "    score_uur = 0\n",
    "    score_total = 0\n",
    "    \n",
    "    decibel_tuple= [(\"decibel_low\", 9), (\"decibel_medium\",7), (\"decibel_noise\",4),(\"decibel_loud\",2)]\n",
    "    people_tuple= [('people_little',8), ('people_medium',7), ('people_busy',6), ('people_crowded',4)]\n",
    "    temperature_tuple = [('temperature_freezing',5), ('temperature_cold',7) , ('temperature_warm',8), ('temperature_hot',9)]\n",
    "    rain_tuple = [('rain_little',9), ('rain_some',7), ('rain_medium',5), ('rain_much',4), ('rain_heavy',2)]\n",
    "    clouds_tuple = [('clouds_little',9), ('clouds_some',8), ('clouds_medium',6), ('clouds_much',5), ('clouds_only',4)]\n",
    "    time_tuple = [('time_early',4), ('time_beforelunch',6), ('time_afterlunch',9), ('time_closing',3)]\n",
    "    \n",
    "    for x in decibel_tuple:\n",
    "        if x[0] == parameter_returns[0]:\n",
    "            score_ruis = x[1]*30\n",
    "    \n",
    "    for x in people_tuple:\n",
    "        if x[0] == parameter_returns[1]:\n",
    "            score_mens = x[1]*20\n",
    "            \n",
    "    for x in temperature_tuple:\n",
    "        if x[0] == parameter_returns[2]:\n",
    "            score_temp = x[1]*15\n",
    "    \n",
    "    for x in rain_tuple:\n",
    "        if x[0] == parameter_returns[3]:\n",
    "            score_regen = x[1]*5\n",
    "    \n",
    "    for x in clouds_tuple:\n",
    "        if x[0] == parameter_returns[4]:\n",
    "            score_wolk = x[1]*10\n",
    "    \n",
    "    for x in time_tuple:\n",
    "        if x[0] == parameter_returns[5]:\n",
    "            score_uur = x[1]*20\n",
    "    \n",
    "    en_total= (score_ruis + score_mens + score_temp + score_regen + score_wolk + score_uur)/1000\n",
    "    return en_total"
   ]
  },
  {
   "cell_type": "code",
   "execution_count": 18,
   "metadata": {},
   "outputs": [
    {
     "data": {
      "text/plain": [
       "0.65"
      ]
     },
     "execution_count": 18,
     "metadata": {},
     "output_type": "execute_result"
    }
   ],
   "source": [
    "Energy(80, 35, 35, 0, 0, 14)"
   ]
  },
  {
   "cell_type": "code",
   "execution_count": 19,
   "metadata": {},
   "outputs": [],
   "source": [
    "def Loudness(decibel, people, temperature, rain, clouds, time):\n",
    "    #note that for this function we use different coefficients, \n",
    "    #because not all parameters were considered relevant for predicting loudness.\n",
    "    \n",
    "    parameter_returns= Parameter_ranges(decibel, people, temperature, rain, clouds, time)\n",
    "    \n",
    "    score_ruis= 0\n",
    "    score_mens= 0\n",
    "    score_uur = 0\n",
    "    score_total = 0\n",
    "    \n",
    "    decibel_tuple= [(\"decibel_low\", 9), (\"decibel_medium\",6), (\"decibel_noise\",3),(\"decibel_loud\",1)]\n",
    "    people_tuple= [('people_little',9), ('people_medium',6), ('people_busy',4), ('people_crowded',2)]\n",
    "    time_tuple = [('time_early',4), ('time_beforelunch',7), ('time_afterlunch',8), ('time_closing',4)]\n",
    "    \n",
    "    for x in decibel_tuple:\n",
    "        if x[0] == parameter_returns[0]:\n",
    "            score_ruis = x[1]*50\n",
    "    \n",
    "    for x in people_tuple:\n",
    "        if x[0] == parameter_returns[1]:\n",
    "            score_mens = x[1]*20\n",
    "    \n",
    "    for x in time_tuple:\n",
    "        if x[0] == parameter_returns[5]:\n",
    "            score_uur = x[1]*30\n",
    "    \n",
    "    lo_total= (score_ruis + score_mens + score_uur)/10\n",
    "    value = ((lo_total * (0 - -30) / 100) + -30)\n",
    "    #val = ((percent * (max - min) / 100) + min\n",
    "    return value"
   ]
  },
  {
   "cell_type": "code",
   "execution_count": 20,
   "metadata": {},
   "outputs": [
    {
     "data": {
      "text/plain": [
       "-7.5"
      ]
     },
     "execution_count": 20,
     "metadata": {},
     "output_type": "execute_result"
    }
   ],
   "source": [
    "Loudness(20, 5, 35, 100, 100, 10)"
   ]
  },
  {
   "cell_type": "code",
   "execution_count": 21,
   "metadata": {},
   "outputs": [],
   "source": [
    "def Tempo(decibel, people, temperature, rain, clouds, time):\n",
    "    #note that for this function we use different coefficients, \n",
    "    #because not all parameters were considered relevant for predicting loudness.\n",
    "    \n",
    "    parameter_returns= Parameter_ranges(decibel, people, temperature, rain, clouds, time)\n",
    "    \n",
    "    score_ruis= 0\n",
    "    score_mens= 0\n",
    "    score_temp= 0\n",
    "    score_uur = 0\n",
    "    score_total = 0\n",
    "    \n",
    "    decibel_tuple= [(\"decibel_low\", 9), (\"decibel_medium\",7), (\"decibel_noise\",5),(\"decibel_loud\",3)]\n",
    "    people_tuple= [('people_little',8), ('people_medium',7), ('people_busy',4), ('people_crowded',3)]\n",
    "    temperature_tuple = [('temperature_freezing',5), ('temperature_cold',7) , ('temperature_warm',9), ('temperature_hot',5)]\n",
    "    time_tuple = [('time_early',4), ('time_beforelunch',9), ('time_afterlunch',6), ('time_closing',4)]\n",
    "    \n",
    "    for x in decibel_tuple:\n",
    "        if x[0] == parameter_returns[0]:\n",
    "            score_ruis = x[1]*30\n",
    "    \n",
    "    for x in people_tuple:\n",
    "        if x[0] == parameter_returns[1]:\n",
    "            score_mens = x[1]*20\n",
    "                               \n",
    "    for x in temperature_tuple:\n",
    "        if x[0] == parameter_returns[2]:\n",
    "            score_temp = x[1]*20\n",
    "    \n",
    "    for x in time_tuple:\n",
    "        if x[0] == parameter_returns[5]:\n",
    "            score_uur = x[1]*30\n",
    "    \n",
    "    lo_total= (score_ruis + score_mens + score_temp+ score_uur)/10\n",
    "    value = ((lo_total * (200 - 50) / 100) + 50)\n",
    "    return value"
   ]
  },
  {
   "cell_type": "code",
   "execution_count": 22,
   "metadata": {},
   "outputs": [
    {
     "data": {
      "text/plain": [
       "153.5"
      ]
     },
     "execution_count": 22,
     "metadata": {},
     "output_type": "execute_result"
    }
   ],
   "source": [
    "Tempo(20, 5, 10, 100, 100, 10)"
   ]
  },
  {
   "cell_type": "code",
   "execution_count": 23,
   "metadata": {},
   "outputs": [],
   "source": [
    "def Valence(decibel, people, temperature, rain, clouds, time):\n",
    "    \n",
    "    parameter_returns= Parameter_ranges(decibel, people, temperature, rain, clouds, time)\n",
    "    \n",
    "    score_ruis= 0\n",
    "    score_mens= 0\n",
    "    score_temp= 0\n",
    "    score_regen= 0\n",
    "    score_wolk= 0 \n",
    "    score_uur = 0\n",
    "    score_total = 0\n",
    "    \n",
    "    decibel_tuple= [(\"decibel_low\", 9), (\"decibel_medium\",7), (\"decibel_noise\",5),(\"decibel_loud\",3)]\n",
    "    people_tuple= [('people_little',9), ('people_medium',7), ('people_busy',5), ('people_crowded',4)]\n",
    "    temperature_tuple = [('temperature_freezing',3), ('temperature_cold',5) , ('temperature_warm',10), ('temperature_hot',8)]\n",
    "    rain_tuple = [('rain_little',8), ('rain_some',7), ('rain_medium',5), ('rain_much',4), ('rain_heavy',3)]\n",
    "    clouds_tuple = [('clouds_little',10), ('clouds_some',8), ('clouds_medium',6), ('clouds_much',4), ('clouds_only',3)]\n",
    "    time_tuple = [('time_early',4), ('time_beforelunch',9), ('time_afterlunch',7), ('time_closing',5)]\n",
    "    \n",
    "    for x in decibel_tuple:\n",
    "        if x[0] == parameter_returns[0]:\n",
    "            score_ruis = x[1]*30\n",
    "    \n",
    "    for x in people_tuple:\n",
    "        if x[0] == parameter_returns[1]:\n",
    "            score_mens = x[1]*20\n",
    "            \n",
    "    for x in temperature_tuple:\n",
    "        if x[0] == parameter_returns[2]:\n",
    "            score_temp = x[1]*15\n",
    "    \n",
    "    for x in rain_tuple:\n",
    "        if x[0] == parameter_returns[3]:\n",
    "            score_regen = x[1]*5\n",
    "    \n",
    "    for x in clouds_tuple:\n",
    "        if x[0] == parameter_returns[4]:\n",
    "            score_wolk = x[1]*10\n",
    "    \n",
    "    for x in time_tuple:\n",
    "        if x[0] == parameter_returns[5]:\n",
    "            score_uur = x[1]*20\n",
    "    \n",
    "    va_total= (score_ruis + score_mens + score_temp + score_regen + score_wolk + score_uur)/1000\n",
    "    return va_total"
   ]
  },
  {
   "cell_type": "code",
   "execution_count": 24,
   "metadata": {},
   "outputs": [
    {
     "data": {
      "text/plain": [
       "0.65"
      ]
     },
     "execution_count": 24,
     "metadata": {},
     "output_type": "execute_result"
    }
   ],
   "source": [
    "Valence(20, 5, 10, 100, 100, 10)"
   ]
  },
  {
   "cell_type": "code",
   "execution_count": 25,
   "metadata": {},
   "outputs": [],
   "source": [
    "def RunAll(bron):\n",
    "    decibel, people, temperature, rain, clouds, time = bron[0], bron[1], bron[2], bron[3], bron[4], bron[5]\n",
    "    danceability = Danceability(decibel, people, temperature, rain, clouds, time)\n",
    "    energy = Energy(decibel, people, temperature, rain, clouds, time)\n",
    "    loudness= Loudness(decibel, people, temperature, rain, clouds, time)\n",
    "    tempo= Tempo(decibel, people, temperature, rain, clouds, time)\n",
    "    valence= Valence(decibel, people, temperature, rain, clouds, time)\n",
    "    \n",
    "    print(bron)\n",
    "    print('danceability:', danceability)\n",
    "    print('energy:', energy)\n",
    "    print('loudness:', loudness)\n",
    "    print('tempo:', tempo)\n",
    "    print('valence:', valence)\n",
    "    return danceability, energy, loudness, tempo, valence"
   ]
  },
  {
   "cell_type": "code",
   "execution_count": 26,
   "metadata": {},
   "outputs": [
    {
     "name": "stdout",
     "output_type": "stream",
     "text": [
      "(50, 15, 10, 40, 80, 10)\n",
      "danceability: 0.61\n",
      "energy: 0.6\n",
      "loudness: -13.8\n",
      "tempo: 141.5\n",
      "valence: 0.56\n"
     ]
    },
    {
     "data": {
      "text/plain": [
       "(0.61, 0.6, -13.8, 141.5, 0.56)"
      ]
     },
     "execution_count": 26,
     "metadata": {},
     "output_type": "execute_result"
    }
   ],
   "source": [
    "nummers = 50, 15, 10, 40, 80, 10\n",
    "RunAll(nummers)"
   ]
  },
  {
   "cell_type": "code",
   "execution_count": 32,
   "metadata": {},
   "outputs": [],
   "source": [
    "def lenListCheck():\n",
    "    return False"
   ]
  },
  {
   "cell_type": "code",
   "execution_count": 34,
   "metadata": {},
   "outputs": [
    {
     "name": "stdout",
     "output_type": "stream",
     "text": [
      "(72.24, 12, 12.01, 0, 75, 16)\n",
      "danceability: 0.415\n",
      "energy: 0.415\n",
      "loudness: -19.2\n",
      "tempo: 98.0\n",
      "valence: 0.36\n"
     ]
    },
    {
     "ename": "SpotifyException",
     "evalue": "http status: 400, code:-1 - https://api.spotify.com/v1/users/bartw26396/playlists/5yJfsUa3aWq20QhPLGwtig/tracks:\n Error parsing JSON.",
     "output_type": "error",
     "traceback": [
      "\u001b[0;31m---------------------------------------------------------------------------\u001b[0m",
      "\u001b[0;31mHTTPError\u001b[0m                                 Traceback (most recent call last)",
      "\u001b[0;32m/Library/Frameworks/Python.framework/Versions/3.7/lib/python3.7/site-packages/spotipy/client.py\u001b[0m in \u001b[0;36m_internal_call\u001b[0;34m(self, method, url, payload, params)\u001b[0m\n\u001b[1;32m    162\u001b[0m             \u001b[0;32mtry\u001b[0m\u001b[0;34m:\u001b[0m\u001b[0;34m\u001b[0m\u001b[0;34m\u001b[0m\u001b[0m\n\u001b[0;32m--> 163\u001b[0;31m                 \u001b[0mr\u001b[0m\u001b[0;34m.\u001b[0m\u001b[0mraise_for_status\u001b[0m\u001b[0;34m(\u001b[0m\u001b[0;34m)\u001b[0m\u001b[0;34m\u001b[0m\u001b[0;34m\u001b[0m\u001b[0m\n\u001b[0m\u001b[1;32m    164\u001b[0m             \u001b[0;32mexcept\u001b[0m \u001b[0mBaseException\u001b[0m\u001b[0;34m:\u001b[0m\u001b[0;34m\u001b[0m\u001b[0;34m\u001b[0m\u001b[0m\n",
      "\u001b[0;32m/Library/Frameworks/Python.framework/Versions/3.7/lib/python3.7/site-packages/requests/models.py\u001b[0m in \u001b[0;36mraise_for_status\u001b[0;34m(self)\u001b[0m\n\u001b[1;32m    940\u001b[0m         \u001b[0;32mif\u001b[0m \u001b[0mhttp_error_msg\u001b[0m\u001b[0;34m:\u001b[0m\u001b[0;34m\u001b[0m\u001b[0;34m\u001b[0m\u001b[0m\n\u001b[0;32m--> 941\u001b[0;31m             \u001b[0;32mraise\u001b[0m \u001b[0mHTTPError\u001b[0m\u001b[0;34m(\u001b[0m\u001b[0mhttp_error_msg\u001b[0m\u001b[0;34m,\u001b[0m \u001b[0mresponse\u001b[0m\u001b[0;34m=\u001b[0m\u001b[0mself\u001b[0m\u001b[0;34m)\u001b[0m\u001b[0;34m\u001b[0m\u001b[0;34m\u001b[0m\u001b[0m\n\u001b[0m\u001b[1;32m    942\u001b[0m \u001b[0;34m\u001b[0m\u001b[0m\n",
      "\u001b[0;31mHTTPError\u001b[0m: 400 Client Error: Bad Request for url: https://api.spotify.com/v1/users/bartw26396/playlists/5yJfsUa3aWq20QhPLGwtig/tracks",
      "\nDuring handling of the above exception, another exception occurred:\n",
      "\u001b[0;31mSpotifyException\u001b[0m                          Traceback (most recent call last)",
      "\u001b[0;32m<ipython-input-34-72a1f856b694>\u001b[0m in \u001b[0;36m<module>\u001b[0;34m\u001b[0m\n\u001b[1;32m      9\u001b[0m \u001b[0;34m\u001b[0m\u001b[0m\n\u001b[1;32m     10\u001b[0m     \u001b[0mprint\u001b[0m\u001b[0;34m(\u001b[0m\u001b[0;34m\"Done\"\u001b[0m\u001b[0;34m)\u001b[0m\u001b[0;34m\u001b[0m\u001b[0;34m\u001b[0m\u001b[0m\n\u001b[0;32m---> 11\u001b[0;31m \u001b[0mspotifyListBuilder\u001b[0m\u001b[0;34m(\u001b[0m\u001b[0;34m)\u001b[0m\u001b[0;34m\u001b[0m\u001b[0;34m\u001b[0m\u001b[0m\n\u001b[0m",
      "\u001b[0;32m<ipython-input-34-72a1f856b694>\u001b[0m in \u001b[0;36mspotifyListBuilder\u001b[0;34m()\u001b[0m\n\u001b[1;32m      5\u001b[0m         \u001b[0mremove_tracks_from_df\u001b[0m\u001b[0;34m(\u001b[0m\u001b[0mcredentials\u001b[0m\u001b[0;34m,\u001b[0m\u001b[0;34m'5yJfsUa3aWq20QhPLGwtig'\u001b[0m\u001b[0;34m,\u001b[0m\u001b[0mmusicData\u001b[0m\u001b[0;34m,\u001b[0m\u001b[0moldfeatures\u001b[0m\u001b[0;34m)\u001b[0m\u001b[0;34m\u001b[0m\u001b[0;34m\u001b[0m\u001b[0m\n\u001b[1;32m      6\u001b[0m \u001b[0;34m\u001b[0m\u001b[0m\n\u001b[0;32m----> 7\u001b[0;31m     \u001b[0madd_tracks_from_df\u001b[0m\u001b[0;34m(\u001b[0m\u001b[0mcredentials\u001b[0m\u001b[0;34m,\u001b[0m\u001b[0;34m'5yJfsUa3aWq20QhPLGwtig'\u001b[0m\u001b[0;34m,\u001b[0m\u001b[0mmusicData\u001b[0m\u001b[0;34m,\u001b[0m\u001b[0mfeatures\u001b[0m\u001b[0;34m)\u001b[0m\u001b[0;34m\u001b[0m\u001b[0;34m\u001b[0m\u001b[0m\n\u001b[0m\u001b[1;32m      8\u001b[0m     \u001b[0moldfeatures\u001b[0m \u001b[0;34m=\u001b[0m \u001b[0mfeatures\u001b[0m\u001b[0;34m\u001b[0m\u001b[0;34m\u001b[0m\u001b[0m\n\u001b[1;32m      9\u001b[0m \u001b[0;34m\u001b[0m\u001b[0m\n",
      "\u001b[0;32m<ipython-input-3-5d92ff3bca4e>\u001b[0m in \u001b[0;36madd_tracks_from_df\u001b[0;34m(credentials, playlist, dataframe, features)\u001b[0m\n\u001b[1;32m     61\u001b[0m     \u001b[0mtoken2\u001b[0m \u001b[0;34m=\u001b[0m \u001b[0mutil\u001b[0m\u001b[0;34m.\u001b[0m\u001b[0mprompt_for_user_token\u001b[0m\u001b[0;34m(\u001b[0m\u001b[0mcredentials\u001b[0m\u001b[0;34m[\u001b[0m\u001b[0;36m0\u001b[0m\u001b[0;34m]\u001b[0m\u001b[0;34m,\u001b[0m\u001b[0mscope_playlist\u001b[0m\u001b[0;34m,\u001b[0m\u001b[0mcredentials\u001b[0m\u001b[0;34m[\u001b[0m\u001b[0;36m1\u001b[0m\u001b[0;34m]\u001b[0m\u001b[0;34m,\u001b[0m\u001b[0mcredentials\u001b[0m\u001b[0;34m[\u001b[0m\u001b[0;36m2\u001b[0m\u001b[0;34m]\u001b[0m\u001b[0;34m,\u001b[0m\u001b[0mcredentials\u001b[0m\u001b[0;34m[\u001b[0m\u001b[0;36m3\u001b[0m\u001b[0;34m]\u001b[0m\u001b[0;34m)\u001b[0m\u001b[0;34m\u001b[0m\u001b[0;34m\u001b[0m\u001b[0m\n\u001b[1;32m     62\u001b[0m     \u001b[0msp2\u001b[0m \u001b[0;34m=\u001b[0m \u001b[0mspotipy\u001b[0m\u001b[0;34m.\u001b[0m\u001b[0mSpotify\u001b[0m\u001b[0;34m(\u001b[0m\u001b[0mauth\u001b[0m\u001b[0;34m=\u001b[0m\u001b[0mtoken2\u001b[0m\u001b[0;34m)\u001b[0m\u001b[0;34m\u001b[0m\u001b[0;34m\u001b[0m\u001b[0m\n\u001b[0;32m---> 63\u001b[0;31m     \u001b[0msp2\u001b[0m\u001b[0;34m.\u001b[0m\u001b[0muser_playlist_add_tracks\u001b[0m\u001b[0;34m(\u001b[0m\u001b[0mcredentials\u001b[0m\u001b[0;34m[\u001b[0m\u001b[0;36m0\u001b[0m\u001b[0;34m]\u001b[0m\u001b[0;34m,\u001b[0m\u001b[0mplaylist\u001b[0m\u001b[0;34m,\u001b[0m \u001b[0msongs\u001b[0m\u001b[0;34m)\u001b[0m\u001b[0;34m\u001b[0m\u001b[0;34m\u001b[0m\u001b[0m\n\u001b[0m\u001b[1;32m     64\u001b[0m     \u001b[0mprint\u001b[0m\u001b[0;34m(\u001b[0m\u001b[0;34m\"Songs Succesfully Added to Playlist\"\u001b[0m\u001b[0;34m)\u001b[0m\u001b[0;34m\u001b[0m\u001b[0;34m\u001b[0m\u001b[0m\n\u001b[1;32m     65\u001b[0m \u001b[0;34m\u001b[0m\u001b[0m\n",
      "\u001b[0;32m/Library/Frameworks/Python.framework/Versions/3.7/lib/python3.7/site-packages/spotipy/client.py\u001b[0m in \u001b[0;36muser_playlist_add_tracks\u001b[0;34m(self, user, playlist_id, tracks, position)\u001b[0m\n\u001b[1;32m    609\u001b[0m             \u001b[0;34m\"users/%s/playlists/%s/tracks\"\u001b[0m \u001b[0;34m%\u001b[0m \u001b[0;34m(\u001b[0m\u001b[0muser\u001b[0m\u001b[0;34m,\u001b[0m \u001b[0mplid\u001b[0m\u001b[0;34m)\u001b[0m\u001b[0;34m,\u001b[0m\u001b[0;34m\u001b[0m\u001b[0;34m\u001b[0m\u001b[0m\n\u001b[1;32m    610\u001b[0m             \u001b[0mpayload\u001b[0m\u001b[0;34m=\u001b[0m\u001b[0mftracks\u001b[0m\u001b[0;34m,\u001b[0m\u001b[0;34m\u001b[0m\u001b[0;34m\u001b[0m\u001b[0m\n\u001b[0;32m--> 611\u001b[0;31m             \u001b[0mposition\u001b[0m\u001b[0;34m=\u001b[0m\u001b[0mposition\u001b[0m\u001b[0;34m,\u001b[0m\u001b[0;34m\u001b[0m\u001b[0;34m\u001b[0m\u001b[0m\n\u001b[0m\u001b[1;32m    612\u001b[0m         )\n\u001b[1;32m    613\u001b[0m \u001b[0;34m\u001b[0m\u001b[0m\n",
      "\u001b[0;32m/Library/Frameworks/Python.framework/Versions/3.7/lib/python3.7/site-packages/spotipy/client.py\u001b[0m in \u001b[0;36m_post\u001b[0;34m(self, url, args, payload, **kwargs)\u001b[0m\n\u001b[1;32m    225\u001b[0m         \u001b[0;32mif\u001b[0m \u001b[0margs\u001b[0m\u001b[0;34m:\u001b[0m\u001b[0;34m\u001b[0m\u001b[0;34m\u001b[0m\u001b[0m\n\u001b[1;32m    226\u001b[0m             \u001b[0mkwargs\u001b[0m\u001b[0;34m.\u001b[0m\u001b[0mupdate\u001b[0m\u001b[0;34m(\u001b[0m\u001b[0margs\u001b[0m\u001b[0;34m)\u001b[0m\u001b[0;34m\u001b[0m\u001b[0;34m\u001b[0m\u001b[0m\n\u001b[0;32m--> 227\u001b[0;31m         \u001b[0;32mreturn\u001b[0m \u001b[0mself\u001b[0m\u001b[0;34m.\u001b[0m\u001b[0m_internal_call\u001b[0m\u001b[0;34m(\u001b[0m\u001b[0;34m\"POST\"\u001b[0m\u001b[0;34m,\u001b[0m \u001b[0murl\u001b[0m\u001b[0;34m,\u001b[0m \u001b[0mpayload\u001b[0m\u001b[0;34m,\u001b[0m \u001b[0mkwargs\u001b[0m\u001b[0;34m)\u001b[0m\u001b[0;34m\u001b[0m\u001b[0;34m\u001b[0m\u001b[0m\n\u001b[0m\u001b[1;32m    228\u001b[0m \u001b[0;34m\u001b[0m\u001b[0m\n\u001b[1;32m    229\u001b[0m     \u001b[0;32mdef\u001b[0m \u001b[0m_delete\u001b[0m\u001b[0;34m(\u001b[0m\u001b[0mself\u001b[0m\u001b[0;34m,\u001b[0m \u001b[0murl\u001b[0m\u001b[0;34m,\u001b[0m \u001b[0margs\u001b[0m\u001b[0;34m=\u001b[0m\u001b[0;32mNone\u001b[0m\u001b[0;34m,\u001b[0m \u001b[0mpayload\u001b[0m\u001b[0;34m=\u001b[0m\u001b[0;32mNone\u001b[0m\u001b[0;34m,\u001b[0m \u001b[0;34m**\u001b[0m\u001b[0mkwargs\u001b[0m\u001b[0;34m)\u001b[0m\u001b[0;34m:\u001b[0m\u001b[0;34m\u001b[0m\u001b[0;34m\u001b[0m\u001b[0m\n",
      "\u001b[0;32m/Library/Frameworks/Python.framework/Versions/3.7/lib/python3.7/site-packages/spotipy/client.py\u001b[0m in \u001b[0;36m_internal_call\u001b[0;34m(self, method, url, payload, params)\u001b[0m\n\u001b[1;32m    171\u001b[0m                     \u001b[0;34m-\u001b[0m\u001b[0;36m1\u001b[0m\u001b[0;34m,\u001b[0m\u001b[0;34m\u001b[0m\u001b[0;34m\u001b[0m\u001b[0m\n\u001b[1;32m    172\u001b[0m                     \u001b[0;34m\"%s:\\n %s\"\u001b[0m \u001b[0;34m%\u001b[0m \u001b[0;34m(\u001b[0m\u001b[0mr\u001b[0m\u001b[0;34m.\u001b[0m\u001b[0murl\u001b[0m\u001b[0;34m,\u001b[0m \u001b[0mmsg\u001b[0m\u001b[0;34m)\u001b[0m\u001b[0;34m,\u001b[0m\u001b[0;34m\u001b[0m\u001b[0;34m\u001b[0m\u001b[0m\n\u001b[0;32m--> 173\u001b[0;31m                     \u001b[0mheaders\u001b[0m\u001b[0;34m=\u001b[0m\u001b[0mr\u001b[0m\u001b[0;34m.\u001b[0m\u001b[0mheaders\u001b[0m\u001b[0;34m,\u001b[0m\u001b[0;34m\u001b[0m\u001b[0;34m\u001b[0m\u001b[0m\n\u001b[0m\u001b[1;32m    174\u001b[0m                 )\n\u001b[1;32m    175\u001b[0m \u001b[0;34m\u001b[0m\u001b[0m\n",
      "\u001b[0;31mSpotifyException\u001b[0m: http status: 400, code:-1 - https://api.spotify.com/v1/users/bartw26396/playlists/5yJfsUa3aWq20QhPLGwtig/tracks:\n Error parsing JSON."
     ]
    }
   ],
   "source": [
    "oldfeatures = [0,0,0,0,0]\n",
    "def spotifyListBuilder():\n",
    "    features = RunAll(numbers)\n",
    "    if lenListCheck():\n",
    "        remove_tracks_from_df(credentials,'5yJfsUa3aWq20QhPLGwtig',musicData,oldfeatures)\n",
    "        \n",
    "    add_tracks_from_df(credentials,'5yJfsUa3aWq20QhPLGwtig',musicData,features)\n",
    "    oldfeatures = features\n",
    "    \n",
    "    print(\"Done\")\n",
    "spotifyListBuilder()"
   ]
  },
  {
   "cell_type": "code",
   "execution_count": null,
   "metadata": {},
   "outputs": [],
   "source": []
  }
 ],
 "metadata": {
  "kernelspec": {
   "display_name": "Python 3",
   "language": "python",
   "name": "python3"
  },
  "language_info": {
   "codemirror_mode": {
    "name": "ipython",
    "version": 3
   },
   "file_extension": ".py",
   "mimetype": "text/x-python",
   "name": "python",
   "nbconvert_exporter": "python",
   "pygments_lexer": "ipython3",
   "version": "3.7.6"
  }
 },
 "nbformat": 4,
 "nbformat_minor": 2
}
