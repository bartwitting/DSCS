{
 "cells": [
  {
   "cell_type": "markdown",
   "metadata": {},
   "source": [
    "# Uitleg over de functie"
   ]
  },
  {
   "cell_type": "markdown",
   "metadata": {},
   "source": []
  },
  {
   "cell_type": "code",
   "execution_count": 1,
   "metadata": {
    "collapsed": true
   },
   "outputs": [],
   "source": [
    "import os\n",
    "import json\n",
    "import random\n",
    "from pyowm import OWM\n",
    "from pyowm.caches.lrucache import LRUCache\n",
    "import datetime\n",
    "import math\n",
    "import subprocess\n",
    "from statistics import mean"
   ]
  },
  {
   "cell_type": "code",
   "execution_count": 2,
   "metadata": {
    "collapsed": true
   },
   "outputs": [],
   "source": [
    "#ranges\n",
    "\n",
    "decibel_low= range(0,50)\n",
    "decibel_medium= range(50,70)\n",
    "decibel_noise= range(70,90)\n",
    "decibel_loud= range(90,151)\n",
    "\n",
    "decibel_list= [(\"decibel_low\",decibel_low), (\"decibel_medium\",decibel_medium), (\"decibel_noise\",decibel_noise), (\"decibel_loud\",decibel_loud)]\n",
    "\n",
    "people_little= range(0,10)\n",
    "people_medium= range(10,20)\n",
    "people_busy= range(20,30)\n",
    "people_crowded= range(30,101)\n",
    "\n",
    "people_list= [('people_little',people_little), ('people_medium',people_medium), ('people_busy',people_busy), ('people_crowded',people_crowded)]\n",
    "\n",
    "temperature_freezing= range(-10, 5)\n",
    "temperature_cold= range(5,15)\n",
    "temperature_warm= range(15,25)\n",
    "temperature_hot= range(25,45)\n",
    "\n",
    "temperature_list = [('temperature_freezing',temperature_freezing), ('temperature_cold',temperature_cold) , ('temperature_warm',temperature_warm), ('temperature_hot',temperature_hot)]\n",
    "\n",
    "rain_little= range(0,20)\n",
    "rain_some= range(20,40)\n",
    "rain_medium= range(40,60)\n",
    "rain_much= range(60,80)\n",
    "rain_heavy = range(80,101)\n",
    "\n",
    "rain_list= [('rain_little',rain_little ), ('rain_some',rain_some), ('rain_medium',rain_medium), ('rain_much',rain_much), ('rain_heavy',rain_heavy)]\n",
    "\n",
    "clouds_little= range(0,20)\n",
    "clouds_some= range(20,40)\n",
    "clouds_medium= range(40,60)\n",
    "clouds_much= range(60,80)\n",
    "clouds_only= range(80,101)\n",
    "\n",
    "clouds_list= [('clouds_little',clouds_little), ('clouds_some',clouds_some), ('clouds_medium',clouds_medium), ('clouds_much',clouds_much), ('clouds_only',clouds_only)]\n",
    "\n",
    "time_early= range(9,11)\n",
    "time_beforelunch= range(11,13)\n",
    "time_afterlunch= range(13,17)\n",
    "time_closing= range(17,18)\n",
    "\n",
    "time_list= [('time_early',time_early), ('time_beforelunch',time_beforelunch), ('time_afterlunch',time_afterlunch), ('time_closing',time_closing)]\n"
   ]
  },
  {
   "cell_type": "code",
   "execution_count": 3,
   "metadata": {
    "collapsed": true
   },
   "outputs": [],
   "source": [
    "def filebuild():\n",
    "    if os.path.exists(\"mac_adresses6.json\"):\n",
    "        os.remove(\"mac_adresses6.json\")\n",
    "        #print(\"Remove\")\n",
    "    else: \n",
    "        os.system(\"howmanypeoplearearound --out mac_adresses6.json --adapter en0 --scantime 20 --sort\")\n",
    "        #print(\"Build\")\n",
    "        \n",
    "def WifiNum() :\n",
    "    # https://github.com/schollz/howmanypeoplearearound\n",
    "\n",
    "    filebuild()\n",
    "\n",
    "    # This piece of code uses the Wi-Fi adapter to track the amount of active phones around\n",
    "    #os.system(\"howmanypeoplearearound --out hoidoeiyooppo.json --adapter en0 --sort\")\n",
    "\n",
    "    with open('mac_adresses6.json') as f:\n",
    "        data = json.load(f)\n",
    "\n",
    "    all_cellphones = [x for x in data['cellphones']]\n",
    "    threshold = -67 #Around 10 meters\n",
    "    cellphones_within_threshold = [x for x in all_cellphones if x['rssi'] > threshold]\n",
    "\n",
    "    print (len(cellphones_within_threshold))\n",
    "\n",
    "    #####################\n",
    "    #Calculates the distance\n",
    "    #####################\n",
    "    # Power = waarde op 1 meter afstand\n",
    "\n",
    "    # Constant depends on the Environmental factor. Range 2-4\n",
    "\n",
    "    #Power = -47.27906976744186\n",
    "    #RSSI = -67\n",
    "    #N = 2\n",
    "\n",
    "    #Distance = 10**((int(Power)-int(RSSI))/(10 * int(N)))\n",
    "    #print(Distance)\n",
    "    filebuild()\n",
    "    return len(cellphones_within_threshold)\n",
    "#WifiNum()"
   ]
  },
  {
   "cell_type": "code",
   "execution_count": 4,
   "metadata": {
    "collapsed": true
   },
   "outputs": [],
   "source": [
    "def DecibelNum():\n",
    "    #Install program, if installed this can also be removed from the formula\n",
    "    os.system('pip install soundmeter') \n",
    "\n",
    "    #Collect the sound for a period of time of 5seconds\n",
    "    batcmd=\"soundmeter --collect --seconds 5\" \n",
    "\n",
    "    #Get the terminal result\n",
    "    result1 = subprocess.check_output(batcmd, shell=True) \n",
    "\n",
    "    #Get the average rms from the x seconds measurement out of the terminal string (limited to 120db)\n",
    "    average_rms = int(result1[-7:-1])\n",
    "\n",
    "    #Convert the RMS value to Db(a)\n",
    "    amount_of_db = 20 * math.log10(average_rms)\n",
    "\n",
    "    #round to two decimal\n",
    "    amount_of_db_rounded = round(amount_of_db, 2)\n",
    "    \n",
    "    return amount_of_db_rounded\n",
    "#DecibelNum()"
   ]
  },
  {
   "cell_type": "code",
   "execution_count": 5,
   "metadata": {
    "collapsed": true
   },
   "outputs": [],
   "source": [
    "def DecibelNum2():\n",
    "    declist=[]\n",
    "    for i in range(5):\n",
    "        declist.append(random.randint(30,130))\n",
    "        \n",
    "    dec = sum(declist)/len(declist)\n",
    "    return dec\n",
    "\n",
    "#DecibelNum2()"
   ]
  },
  {
   "cell_type": "code",
   "execution_count": 6,
   "metadata": {
    "collapsed": true,
    "scrolled": false
   },
   "outputs": [],
   "source": [
    "API_key = '6ff7fde73bb9cccf854fd26d31b4fe6d'\n",
    "owm = OWM(API_key)\n",
    "cache = LRUCache()\n",
    "def WeatherNum() :\n",
    "    place = owm.weather_at_place('Muiden,NL')\n",
    "    weathercall = place.get_weather()\n",
    "    cloudiness = weathercall.get_clouds()\n",
    "    rain_status = weathercall.get_rain()\n",
    "    if len(rain_status) > 0:\n",
    "        rkeys = list(rain_status.keys())\n",
    "        rain_mm = rain_status[rkeys[0]]\n",
    "    else:\n",
    "        rain_mm = 0\n",
    "    temperature = weathercall.get_temperature(unit='celsius')['temp']\n",
    "\n",
    "    return [cloudiness,rain_mm, temperature]\n",
    "    \n",
    "#WeatherNum()"
   ]
  },
  {
   "cell_type": "code",
   "execution_count": 7,
   "metadata": {},
   "outputs": [
    {
     "name": "stdout",
     "output_type": "stream",
     "text": [
      "7\n"
     ]
    },
    {
     "data": {
      "text/plain": [
       "(46.11, 7, 12.14, 0, 40, 16)"
      ]
     },
     "execution_count": 7,
     "metadata": {},
     "output_type": "execute_result"
    }
   ],
   "source": [
    "def getNums() :\n",
    "    numPeople = WifiNum()\n",
    "    decibel = DecibelNum()\n",
    "    weather = WeatherNum()\n",
    "    temperature = weather[2]\n",
    "    clouds = weather[0]\n",
    "    rain = weather[1]\n",
    "    now = datetime.datetime.now()\n",
    "    time = now.hour\n",
    "    \n",
    "    return decibel, numPeople, temperature, rain, clouds, time\n",
    "\n",
    "numbers = getNums()\n",
    "numbers"
   ]
  },
  {
   "cell_type": "code",
   "execution_count": 8,
   "metadata": {
    "collapsed": true
   },
   "outputs": [],
   "source": [
    "def Parameter_ranges(decibel, people, temperature, rain, clouds, time):\n",
    "    ruis_range= str\n",
    "    mensen_range = str\n",
    "    temp_range = str\n",
    "    regen_range = str\n",
    "    wolk_range = str\n",
    "    uur_range = str\n",
    "    \n",
    "    for ruis in decibel_list:\n",
    "        for db in ruis[1]:\n",
    "            if db == decibel:\n",
    "                ruis_range = ruis[0]\n",
    "            \n",
    "    for mensen in people_list:\n",
    "        for mens in mensen[1]:\n",
    "            if mens==people:\n",
    "                mensen_range = mensen[0]\n",
    "            \n",
    "    for temp in temperature_list:\n",
    "        for c in temp[1]:\n",
    "            if c==temperature:\n",
    "                temp_range = temp[0]\n",
    "    \n",
    "    for regen in rain_list:\n",
    "        for m in regen[1]:\n",
    "            if m==rain:\n",
    "                regen_range = regen[0]\n",
    "            \n",
    "    for wolk in clouds_list:\n",
    "        for w in wolk[1]:\n",
    "            if w==clouds:\n",
    "                wolk_range = wolk[0]\n",
    "    \n",
    "    for uur in time_list:\n",
    "        for s in uur[1]:\n",
    "            if s==time:\n",
    "                uur_range = uur[0]\n",
    "    \n",
    "    return ruis_range, mensen_range, temp_range, regen_range, wolk_range, uur_range"
   ]
  },
  {
   "cell_type": "code",
   "execution_count": 9,
   "metadata": {
    "scrolled": true
   },
   "outputs": [
    {
     "data": {
      "text/plain": [
       "('decibel_medium',\n",
       " 'people_medium',\n",
       " 'temperature_warm',\n",
       " 'rain_heavy',\n",
       " 'clouds_only',\n",
       " 'time_afterlunch')"
      ]
     },
     "execution_count": 9,
     "metadata": {},
     "output_type": "execute_result"
    }
   ],
   "source": [
    "Parameter_ranges(50, 10, 20, 100, 100, 15)"
   ]
  },
  {
   "cell_type": "code",
   "execution_count": 10,
   "metadata": {
    "collapsed": true
   },
   "outputs": [],
   "source": [
    "def Danceability(decibel, people, temperature, rain, clouds, time):\n",
    "    \n",
    "    parameter_returns= Parameter_ranges(decibel, people, temperature, rain, clouds, time)\n",
    "    \n",
    "    score_ruis= 0\n",
    "    score_mens= 0\n",
    "    score_temp= 0\n",
    "    score_regen= 0\n",
    "    score_wolk= 0 \n",
    "    score_uur = 0\n",
    "    score_total = 0\n",
    "    \n",
    "    decibel_tuple= [(\"decibel_low\", 9), (\"decibel_medium\",7), (\"decibel_noise\",6),(\"decibel_loud\",3)]\n",
    "    people_tuple= [('people_little',9), ('people_medium',7), ('people_busy',5), ('people_crowded',4)]\n",
    "    temperature_tuple = [('temperature_freezing',4), ('temperature_cold',6) , ('temperature_warm',8), ('temperature_hot',9)]\n",
    "    rain_tuple = [('rain_little',9), ('rain_some',7), ('rain_medium',6), ('rain_much',4), ('rain_heavy',3)]\n",
    "    clouds_tuple = [('clouds_little',9), ('clouds_some',7), ('clouds_medium',6), ('clouds_much',5), ('clouds_only',4)]\n",
    "    time_tuple = [('time_early',5), ('time_beforelunch',7), ('time_afterlunch',9), ('time_closing',5)]\n",
    "    \n",
    "    for x in decibel_tuple:\n",
    "        if x[0] == parameter_returns[0]:\n",
    "            score_ruis = x[1]*30\n",
    "    \n",
    "    for x in people_tuple:\n",
    "        if x[0] == parameter_returns[1]:\n",
    "            score_mens = x[1]*20\n",
    "            \n",
    "    for x in temperature_tuple:\n",
    "        if x[0] == parameter_returns[2]:\n",
    "            score_temp = x[1]*15\n",
    "    \n",
    "    for x in rain_tuple:\n",
    "        if x[0] == parameter_returns[3]:\n",
    "            score_regen = x[1]*5\n",
    "    \n",
    "    for x in clouds_tuple:\n",
    "        if x[0] == parameter_returns[4]:\n",
    "            score_wolk = x[1]*10\n",
    "    \n",
    "    for x in time_tuple:\n",
    "        if x[0] == parameter_returns[5]:\n",
    "            score_uur = x[1]*20\n",
    "    \n",
    "    da_total= (score_ruis + score_mens + score_temp + score_regen + score_wolk + score_uur)/1000\n",
    "    return da_total\n",
    "\n"
   ]
  },
  {
   "cell_type": "code",
   "execution_count": 11,
   "metadata": {},
   "outputs": [
    {
     "data": {
      "text/plain": [
       "0.71"
      ]
     },
     "execution_count": 11,
     "metadata": {},
     "output_type": "execute_result"
    }
   ],
   "source": [
    "Danceability(80, 35, 35, 0, 0, 14)"
   ]
  },
  {
   "cell_type": "code",
   "execution_count": 12,
   "metadata": {
    "collapsed": true
   },
   "outputs": [],
   "source": [
    "def Energy(decibel, people, temperature, rain, clouds, time):\n",
    "    \n",
    "    parameter_returns= Parameter_ranges(decibel, people, temperature, rain, clouds, time)\n",
    "    \n",
    "    score_ruis= 0\n",
    "    score_mens= 0\n",
    "    score_temp= 0\n",
    "    score_regen= 0\n",
    "    score_wolk= 0 \n",
    "    score_uur = 0\n",
    "    score_total = 0\n",
    "    \n",
    "    decibel_tuple= [(\"decibel_low\", 9), (\"decibel_medium\",7), (\"decibel_noise\",4),(\"decibel_loud\",2)]\n",
    "    people_tuple= [('people_little',8), ('people_medium',7), ('people_busy',6), ('people_crowded',4)]\n",
    "    temperature_tuple = [('temperature_freezing',5), ('temperature_cold',7) , ('temperature_warm',8), ('temperature_hot',9)]\n",
    "    rain_tuple = [('rain_little',9), ('rain_some',7), ('rain_medium',5), ('rain_much',4), ('rain_heavy',2)]\n",
    "    clouds_tuple = [('clouds_little',9), ('clouds_some',8), ('clouds_medium',6), ('clouds_much',5), ('clouds_only',4)]\n",
    "    time_tuple = [('time_early',4), ('time_beforelunch',6), ('time_afterlunch',9), ('time_closing',3)]\n",
    "    \n",
    "    for x in decibel_tuple:\n",
    "        if x[0] == parameter_returns[0]:\n",
    "            score_ruis = x[1]*30\n",
    "    \n",
    "    for x in people_tuple:\n",
    "        if x[0] == parameter_returns[1]:\n",
    "            score_mens = x[1]*20\n",
    "            \n",
    "    for x in temperature_tuple:\n",
    "        if x[0] == parameter_returns[2]:\n",
    "            score_temp = x[1]*15\n",
    "    \n",
    "    for x in rain_tuple:\n",
    "        if x[0] == parameter_returns[3]:\n",
    "            score_regen = x[1]*5\n",
    "    \n",
    "    for x in clouds_tuple:\n",
    "        if x[0] == parameter_returns[4]:\n",
    "            score_wolk = x[1]*10\n",
    "    \n",
    "    for x in time_tuple:\n",
    "        if x[0] == parameter_returns[5]:\n",
    "            score_uur = x[1]*20\n",
    "    \n",
    "    en_total= (score_ruis + score_mens + score_temp + score_regen + score_wolk + score_uur)/1000\n",
    "    return en_total"
   ]
  },
  {
   "cell_type": "code",
   "execution_count": 13,
   "metadata": {},
   "outputs": [
    {
     "data": {
      "text/plain": [
       "0.65"
      ]
     },
     "execution_count": 13,
     "metadata": {},
     "output_type": "execute_result"
    }
   ],
   "source": [
    "Energy(80, 35, 35, 0, 0, 14)"
   ]
  },
  {
   "cell_type": "code",
   "execution_count": 23,
   "metadata": {
    "collapsed": true
   },
   "outputs": [],
   "source": [
    "def Loudness(decibel, people, temperature, rain, clouds, time):\n",
    "    #note that for this function we use different coefficients, \n",
    "    #because not all parameters were considered relevant for predicting loudness.\n",
    "    \n",
    "    parameter_returns= Parameter_ranges(decibel, people, temperature, rain, clouds, time)\n",
    "    \n",
    "    score_ruis= 0\n",
    "    score_mens= 0\n",
    "    score_uur = 0\n",
    "    score_total = 0\n",
    "    \n",
    "    decibel_tuple= [(\"decibel_low\", 9), (\"decibel_medium\",6), (\"decibel_noise\",3),(\"decibel_loud\",1)]\n",
    "    people_tuple= [('people_little',9), ('people_medium',6), ('people_busy',4), ('people_crowded',2)]\n",
    "    time_tuple = [('time_early',4), ('time_beforelunch',7), ('time_afterlunch',8), ('time_closing',4)]\n",
    "    \n",
    "    for x in decibel_tuple:\n",
    "        if x[0] == parameter_returns[0]:\n",
    "            score_ruis = x[1]*50\n",
    "    \n",
    "    for x in people_tuple:\n",
    "        if x[0] == parameter_returns[1]:\n",
    "            score_mens = x[1]*20\n",
    "    \n",
    "    for x in time_tuple:\n",
    "        if x[0] == parameter_returns[5]:\n",
    "            score_uur = x[1]*30\n",
    "    \n",
    "    lo_total= (score_ruis + score_mens + score_uur)/10\n",
    "    value = ((lo_total * (0 - -30) / 100) + -30)\n",
    "    #val = ((percent * (max - min) / 100) + min\n",
    "    return value"
   ]
  },
  {
   "cell_type": "code",
   "execution_count": 24,
   "metadata": {},
   "outputs": [
    {
     "data": {
      "text/plain": [
       "-7.5"
      ]
     },
     "execution_count": 24,
     "metadata": {},
     "output_type": "execute_result"
    }
   ],
   "source": [
    "Loudness(20, 5, 35, 100, 100, 10)"
   ]
  },
  {
   "cell_type": "code",
   "execution_count": 16,
   "metadata": {
    "collapsed": true
   },
   "outputs": [],
   "source": [
    "def Tempo(decibel, people, temperature, rain, clouds, time):\n",
    "    #note that for this function we use different coefficients, \n",
    "    #because not all parameters were considered relevant for predicting loudness.\n",
    "    \n",
    "    parameter_returns= Parameter_ranges(decibel, people, temperature, rain, clouds, time)\n",
    "    \n",
    "    score_ruis= 0\n",
    "    score_mens= 0\n",
    "    score_temp= 0\n",
    "    score_uur = 0\n",
    "    score_total = 0\n",
    "    \n",
    "    decibel_tuple= [(\"decibel_low\", 9), (\"decibel_medium\",7), (\"decibel_noise\",5),(\"decibel_loud\",3)]\n",
    "    people_tuple= [('people_little',8), ('people_medium',7), ('people_busy',4), ('people_crowded',3)]\n",
    "    temperature_tuple = [('temperature_freezing',5), ('temperature_cold',7) , ('temperature_warm',9), ('temperature_hot',5)]\n",
    "    time_tuple = [('time_early',4), ('time_beforelunch',9), ('time_afterlunch',6), ('time_closing',4)]\n",
    "    \n",
    "    for x in decibel_tuple:\n",
    "        if x[0] == parameter_returns[0]:\n",
    "            score_ruis = x[1]*30\n",
    "    \n",
    "    for x in people_tuple:\n",
    "        if x[0] == parameter_returns[1]:\n",
    "            score_mens = x[1]*20\n",
    "                               \n",
    "    for x in temperature_tuple:\n",
    "        if x[0] == parameter_returns[2]:\n",
    "            score_temp = x[1]*20\n",
    "    \n",
    "    for x in time_tuple:\n",
    "        if x[0] == parameter_returns[5]:\n",
    "            score_uur = x[1]*30\n",
    "    \n",
    "    lo_total= (score_ruis + score_mens + score_temp+ score_uur)/10\n",
    "    value = ((lo_total * (200 - 50) / 100) + 50)\n",
    "    return value"
   ]
  },
  {
   "cell_type": "code",
   "execution_count": 17,
   "metadata": {},
   "outputs": [
    {
     "data": {
      "text/plain": [
       "153.5"
      ]
     },
     "execution_count": 17,
     "metadata": {},
     "output_type": "execute_result"
    }
   ],
   "source": [
    "Tempo(20, 5, 10, 100, 100, 10)"
   ]
  },
  {
   "cell_type": "code",
   "execution_count": 18,
   "metadata": {
    "collapsed": true
   },
   "outputs": [],
   "source": [
    "def Valence(decibel, people, temperature, rain, clouds, time):\n",
    "    \n",
    "    parameter_returns= Parameter_ranges(decibel, people, temperature, rain, clouds, time)\n",
    "    \n",
    "    score_ruis= 0\n",
    "    score_mens= 0\n",
    "    score_temp= 0\n",
    "    score_regen= 0\n",
    "    score_wolk= 0 \n",
    "    score_uur = 0\n",
    "    score_total = 0\n",
    "    \n",
    "    decibel_tuple= [(\"decibel_low\", 9), (\"decibel_medium\",7), (\"decibel_noise\",5),(\"decibel_loud\",3)]\n",
    "    people_tuple= [('people_little',9), ('people_medium',7), ('people_busy',5), ('people_crowded',4)]\n",
    "    temperature_tuple = [('temperature_freezing',3), ('temperature_cold',5) , ('temperature_warm',10), ('temperature_hot',8)]\n",
    "    rain_tuple = [('rain_little',8), ('rain_some',7), ('rain_medium',5), ('rain_much',4), ('rain_heavy',3)]\n",
    "    clouds_tuple = [('clouds_little',10), ('clouds_some',8), ('clouds_medium',6), ('clouds_much',4), ('clouds_only',3)]\n",
    "    time_tuple = [('time_early',4), ('time_beforelunch',9), ('time_afterlunch',7), ('time_closing',5)]\n",
    "    \n",
    "    for x in decibel_tuple:\n",
    "        if x[0] == parameter_returns[0]:\n",
    "            score_ruis = x[1]*30\n",
    "    \n",
    "    for x in people_tuple:\n",
    "        if x[0] == parameter_returns[1]:\n",
    "            score_mens = x[1]*20\n",
    "            \n",
    "    for x in temperature_tuple:\n",
    "        if x[0] == parameter_returns[2]:\n",
    "            score_temp = x[1]*15\n",
    "    \n",
    "    for x in rain_tuple:\n",
    "        if x[0] == parameter_returns[3]:\n",
    "            score_regen = x[1]*5\n",
    "    \n",
    "    for x in clouds_tuple:\n",
    "        if x[0] == parameter_returns[4]:\n",
    "            score_wolk = x[1]*10\n",
    "    \n",
    "    for x in time_tuple:\n",
    "        if x[0] == parameter_returns[5]:\n",
    "            score_uur = x[1]*20\n",
    "    \n",
    "    va_total= (score_ruis + score_mens + score_temp + score_regen + score_wolk + score_uur)/1000\n",
    "    return va_total"
   ]
  },
  {
   "cell_type": "code",
   "execution_count": 19,
   "metadata": {},
   "outputs": [
    {
     "data": {
      "text/plain": [
       "0.65"
      ]
     },
     "execution_count": 19,
     "metadata": {},
     "output_type": "execute_result"
    }
   ],
   "source": [
    "Valence(20, 5, 10, 100, 100, 10)"
   ]
  },
  {
   "cell_type": "code",
   "execution_count": 20,
   "metadata": {
    "collapsed": true
   },
   "outputs": [],
   "source": [
    "def RunAll(bron):\n",
    "    decibel, people, temperature, rain, clouds, time = bron[0], bron[1], bron[2], bron[3], bron[4], bron[5]\n",
    "    danceability = Danceability(decibel, people, temperature, rain, clouds, time)\n",
    "    energy = Energy(decibel, people, temperature, rain, clouds, time)\n",
    "    loudness= Loudness(decibel, people, temperature, rain, clouds, time)\n",
    "    tempo= Tempo(decibel, people, temperature, rain, clouds, time)\n",
    "    valence= Valence(decibel, people, temperature, rain, clouds, time)\n",
    "    \n",
    "    print(bron)\n",
    "    print('danceability:', danceability)\n",
    "    print('energy:', energy)\n",
    "    print('loudness:', loudness)\n",
    "    print('tempo:', tempo)\n",
    "    print('valence:', valence)\n",
    "    return danceability, energy, loudness, tempo, valence"
   ]
  },
  {
   "cell_type": "code",
   "execution_count": 21,
   "metadata": {},
   "outputs": [
    {
     "name": "stdout",
     "output_type": "stream",
     "text": [
      "(50, 15, 10, 40, 80, 10)\n",
      "danceability: 0.61\n",
      "energy: 0.6\n",
      "loudness: -27.6\n",
      "tempo: 141.5\n",
      "valence: 0.56\n"
     ]
    },
    {
     "data": {
      "text/plain": [
       "(0.61, 0.6, -27.6, 141.5, 0.56)"
      ]
     },
     "execution_count": 21,
     "metadata": {},
     "output_type": "execute_result"
    }
   ],
   "source": [
    "nummers = 50, 15, 10, 40, 80, 10\n",
    "RunAll(nummers)"
   ]
  },
  {
   "cell_type": "code",
   "execution_count": 22,
   "metadata": {},
   "outputs": [
    {
     "name": "stdout",
     "output_type": "stream",
     "text": [
      "(46.11, 7, 12.14, 0, 40, 16)\n",
      "danceability: 0.465\n",
      "energy: 0.445\n",
      "loudness: -34.8\n",
      "tempo: 101.0\n",
      "valence: 0.42\n"
     ]
    },
    {
     "data": {
      "text/plain": [
       "(0.465, 0.445, -34.8, 101.0, 0.42)"
      ]
     },
     "execution_count": 22,
     "metadata": {},
     "output_type": "execute_result"
    }
   ],
   "source": [
    "RunAll(numbers)"
   ]
  },
  {
   "cell_type": "code",
   "execution_count": null,
   "metadata": {
    "collapsed": true
   },
   "outputs": [],
   "source": []
  },
  {
   "cell_type": "code",
   "execution_count": null,
   "metadata": {
    "collapsed": true
   },
   "outputs": [],
   "source": []
  }
 ],
 "metadata": {
  "kernelspec": {
   "display_name": "Python 3",
   "language": "python",
   "name": "python3"
  },
  "language_info": {
   "codemirror_mode": {
    "name": "ipython",
    "version": 3
   },
   "file_extension": ".py",
   "mimetype": "text/x-python",
   "name": "python",
   "nbconvert_exporter": "python",
   "pygments_lexer": "ipython3",
   "version": "3.6.6"
  }
 },
 "nbformat": 4,
 "nbformat_minor": 2
}
