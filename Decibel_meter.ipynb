{
 "cells": [
  {
   "cell_type": "code",
   "execution_count": 1,
   "metadata": {},
   "outputs": [
    {
     "name": "stdout",
     "output_type": "stream",
     "text": [
      "51.64\n"
     ]
    }
   ],
   "source": [
    "import os\n",
    "import json\n",
    "import math\n",
    "import subprocess\n",
    "from statistics import mean \n",
    "import subprocess\n",
    "\n",
    "#Install program, if installed this can also be removed from the formula\n",
    "os.system('pip install soundmeter') \n",
    "\n",
    "#Collect the sound for a period of time of 5seconds\n",
    "batcmd=\"soundmeter --collect --seconds 5\" \n",
    "\n",
    "#Get the terminal result\n",
    "result1 = subprocess.check_output(batcmd, shell=True) \n",
    "\n",
    "#Get the average rms from the x seconds measurement out of the terminal string (limited to 120db)\n",
    "average_rms = int(result1[-7:-1])\n",
    "\n",
    "#Convert the RMS value to Db(a)\n",
    "amount_of_db = 20 * math.log10(average_rms)\n",
    "\n",
    "#round to two decimal\n",
    "amount_of_db_rounded = round(amount_of_db, 2)\n",
    "\n",
    "print(amount_of_db_rounded)"
   ]
  }
 ],
 "metadata": {
  "kernelspec": {
   "display_name": "Python 3",
   "language": "python",
   "name": "python3"
  },
  "language_info": {
   "codemirror_mode": {
    "name": "ipython",
    "version": 3
   },
   "file_extension": ".py",
   "mimetype": "text/x-python",
   "name": "python",
   "nbconvert_exporter": "python",
   "pygments_lexer": "ipython3",
   "version": "3.7.3"
  }
 },
 "nbformat": 4,
 "nbformat_minor": 2
}
