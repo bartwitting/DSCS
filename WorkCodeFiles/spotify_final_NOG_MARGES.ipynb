{
 "cells": [
  {
   "cell_type": "code",
   "execution_count": 1,
   "metadata": {},
   "outputs": [],
   "source": [
    "import sys\n",
    "import spotipy\n",
    "import spotipy.util as util\n",
    "import pandas as pd\n",
    "import numpy as np\n",
    "sp = spotipy.Spotify()\n",
    "\n",
    "def get_playlist_tracks(credentials,username,playlist_id):\n",
    "    #set scope to retreive public data\n",
    "    scope_playlist = 'playlist-modify-public'\n",
    "    #provide token using given credentials\n",
    "    #credentials are: username, public key, private key and redirect_uri\n",
    "    token = util.prompt_for_user_token(credentials[0],scope_playlist,credentials[1],credentials[2],credentials[3])\n",
    "    sp = spotipy.Spotify(auth=token)\n",
    "    #get tracklisting from playlist data\n",
    "    results = sp.user_playlist_tracks(username,playlist_id)\n",
    "    tracks = results['items']\n",
    "    #ensure collection of data after more than 100 requests\n",
    "    while results['next']:\n",
    "        results = sp.next(results)\n",
    "        tracks.extend(results['items'])\n",
    "    return tracks\n",
    "\n",
    "def get_features(tracks):\n",
    "    #set scope to retreive public data\n",
    "    scope_playlist = 'playlist-modify-public'\n",
    "    #provide token using given credentials\n",
    "    #credentials are: username, public key, private key and redirect_uri\n",
    "    token = util.prompt_for_user_token(credentials[0],scope_playlist,credentials[1],credentials[2],credentials[3])\n",
    "    sp = spotipy.Spotify(auth=token)\n",
    "    #make empty list to collect dictionaries for dataframe\n",
    "    dataframe = []\n",
    "    for x in tracks:\n",
    "        try:\n",
    "            track = x['track']\n",
    "            #get audio features per track\n",
    "            feat = (sp.audio_features(tracks=[track['id']])[0])\n",
    "            #get track and artist info\n",
    "            art_dict = {'artist':track['artists'][0]['name'], 'title':track['name'], 'popularity':track['popularity']}\n",
    "            #combine both dictionaries\n",
    "            art_dict.update(feat)\n",
    "            #make dataframe from dictionary\n",
    "            dataframe.append(art_dict)\n",
    "        except:\n",
    "            print(\"Oh no!\",sys.exc_info()[0],\"happend\")\n",
    "    #filter dataframe to neccesary columns\n",
    "    df = pd.DataFrame(dataframe)\n",
    "    df = df.filter(['title', 'artist', 'danceability','energy', 'loudness', 'tempo','valence', 'popularity','id'])\n",
    "    df = df.set_index('title')\n",
    "    print(\"Finished collecting Songs\")\n",
    "    return df\n",
    "\n",
    "def add_tracks_from_df(credentials,playlist,dataframe,features):\n",
    "    scope_playlist = 'playlist-modify-public'\n",
    "    token = util.prompt_for_user_token(credentials[0],scope_playlist,credentials[1],credentials[2],credentials[3])\n",
    "    sp = spotipy.Spotify(auth=token)\n",
    "    #make selection based on feature input\n",
    "    dataframe = dataframe.drop_duplicates()\n",
    "    selection = dataframe.loc[(dataframe['danceability'].between(features[0]-0.1, features[0]+0.1, inclusive=False)) &\\\n",
    "    (dataframe['energy'].between(features[1]-0.2, features[1]+0.2, inclusive=False)) &\\\n",
    "    (dataframe['loudness'].between(features[2]-5, features[2]+5, inclusive=False)) &\\\n",
    "    (dataframe['tempo'].between(features[3]-40, features[3]+40, inclusive=False)) &\\\n",
    "    (dataframe['valence'].between(features[4]-0.5, features[4]+0.5, inclusive=False))] \n",
    "    #remove unwanted artists\n",
    "    # & (~dataframe['artist'].isin(['Ariana Grande']))]\n",
    "    selection.sort_values(by=['popularity'], ascending=False)\n",
    "    songs = selection['id'].tolist()\n",
    "    \n",
    "    if len(songs) > 0:\n",
    "        scope_playlist = 'playlist-modify-public'\n",
    "        token = util.prompt_for_user_token(credentials[0],scope_playlist,credentials[1],credentials[2],credentials[3])\n",
    "        sp = spotipy.Spotify(auth=token)\n",
    "        sp.user_playlist_add_tracks(credentials[0],playlist, songs[:100])\n",
    "        print(\"Songs Succesfully Added to Playlist\")\n",
    "    else:\n",
    "        print(\"There are no suitable songs in your collection\")\n",
    "    \n",
    "def remove_tracks_from_df(credentials,playlist,dataframe,features):\n",
    "    scope_playlist = 'playlist-modify-public'\n",
    "    token = util.prompt_for_user_token(credentials[0],scope_playlist,credentials[1],credentials[2],credentials[3])\n",
    "    sp = spotipy.Spotify(auth=token)\n",
    "    dataframe = dataframe.drop_duplicates()\n",
    "    selection = dataframe.loc[(dataframe['danceability'].between(features[0]-0.1, features[0]+0.1, inclusive=False)) &\\\n",
    "    (dataframe['energy'].between(features[1]-0.2, features[1]+0.2, inclusive=False)) &\\\n",
    "    (dataframe['loudness'].between(features[2]-5, features[2]+5, inclusive=False)) &\\\n",
    "    (dataframe['tempo'].between(features[3]-40, features[3]+40, inclusive=False)) &\\\n",
    "    (dataframe['valence'].between(features[4]-0.5, features[4]+0.5, inclusive=False))]\n",
    "    selection.sort_values(by=['popularity'], ascending=False)\n",
    "    songs = selection['id'].tolist()\n",
    "    \n",
    "    scope_playlist = 'playlist-modify-public'\n",
    "    token = util.prompt_for_user_token(credentials[0],scope_playlist,credentials[1],credentials[2],credentials[3])\n",
    "    sp = spotipy.Spotify(auth=token)\n",
    "    sp.user_playlist_remove_all_occurrences_of_tracks(credentials[0],playlist, songs[:100])\n",
    "    print(\"Songs Succesfully Removed from Playlist\")\n",
    "    \n",
    "def update_store_list(credentials,playlist,dataframe,features):\n",
    "    scope_playlist = 'playlist-modify-public'\n",
    "    token = util.prompt_for_user_token(credentials[0],scope_playlist,credentials[1],credentials[2],credentials[3])\n",
    "    sp = spotipy.Spotify(auth=token)\n",
    "    store_list = get_playlist_tracks(credentials,'zwamborn','4jwcDPU0HyEw0cOAPPFOdp')\n",
    "    if len(store_list) == 0:\n",
    "        print('Updating Playlist...')\n",
    "        add_tracks_from_df(credentials,playlist,dataframe,features)\n",
    "    else:\n",
    "        songs =[]\n",
    "        for x in list_length:\n",
    "            songs.append(x['track']['id'])\n",
    "        print('Clearing Playlist...')\n",
    "        sp.user_playlist_remove_all_occurrences_of_tracks(credentials[0],playlist, songs[:100])\n",
    "        print(\"Songs Succesfully Removed from Playlist\")\n",
    "        print('Updating Playlist...')\n",
    "        add_tracks_from_df(credentials,playlist,dataframe,features)\n"
   ]
  },
  {
   "cell_type": "code",
   "execution_count": null,
   "metadata": {},
   "outputs": [
    {
     "name": "stdout",
     "output_type": "stream",
     "text": [
      "\n",
      "\n",
      "            User authentication requires interaction with your\n",
      "            web browser. Once you enter your credentials and\n",
      "            give authorization, you will be redirected to\n",
      "            a url.  Paste that url you were directed to to\n",
      "            complete the authorization.\n",
      "\n",
      "        \n",
      "Opened https://accounts.spotify.com/authorize?client_id=5711bc132b4c48ceb5bbd19cd65b1e63&response_type=code&redirect_uri=http%3A%2F%2Flocalhost&scope=playlist-modify-public in your browser\n",
      "\n",
      "\n"
     ]
    }
   ],
   "source": [
    "credentials = ['zwamborn', '5711bc132b4c48ceb5bbd19cd65b1e63', 'f507991961c948d8bf1b62ae6ef5ab15', 'http://localhost']\n",
    "playlists = {'Kasper Langendoen':'4W7jnrqeKfVEnb1BVHMG5b', 'Top 50 Wereld':'37i9dQZEVXbMDoHDwVN2tF', 'NPO Radio 2':'1DTzz7Nh2rJBnyFbjsH1Mh',\\\n",
    "'daryl zandvliet':'6PoHyrIELxnRlRKOsI5yhW', 'Slam Official':'0OdWlUFdB6Lio5dIdXY81O', 'Bouke Bosma':'70aT8IllF7t6CLcPf2pt99'}\n",
    "\n",
    "datafroem = pd.DataFrame()\n",
    "for key, value in playlists.items():\n",
    "    tracklist = get_playlist_tracks(credentials, key,value)\n",
    "    data = get_features(tracklist)\n",
    "    datafroem = datafroem.append(data)\n",
    "    \n"
   ]
  },
  {
   "cell_type": "code",
   "execution_count": 39,
   "metadata": {},
   "outputs": [
    {
     "name": "stdout",
     "output_type": "stream",
     "text": [
      "Clearing Playlist...\n",
      "Songs Succesfully Removed from Playlist\n",
      "Updating Playlist...\n",
      "Songs Succesfully Added to Playlist\n"
     ]
    }
   ],
   "source": [
    "features = [0.615,0.615,-5.4,98.0,0.36]\n",
    "update_store_list(credentials,'4jwcDPU0HyEw0cOAPPFOdp',datafroem,features)"
   ]
  },
  {
   "cell_type": "code",
   "execution_count": 38,
   "metadata": {},
   "outputs": [
    {
     "data": {
      "text/plain": [
       "danceability      0.589516\n",
       "energy            0.628314\n",
       "loudness         -8.532959\n",
       "tempo           120.313308\n",
       "valence           0.516761\n",
       "popularity       54.988556\n",
       "dtype: float64"
      ]
     },
     "execution_count": 38,
     "metadata": {},
     "output_type": "execute_result"
    }
   ],
   "source": [
    "datafroem.mean()"
   ]
  },
  {
   "cell_type": "code",
   "execution_count": null,
   "metadata": {},
   "outputs": [],
   "source": []
  }
 ],
 "metadata": {
  "kernelspec": {
   "display_name": "Python 3",
   "language": "python",
   "name": "python3"
  },
  "language_info": {
   "codemirror_mode": {
    "name": "ipython",
    "version": 3
   },
   "file_extension": ".py",
   "mimetype": "text/x-python",
   "name": "python",
   "nbconvert_exporter": "python",
   "pygments_lexer": "ipython3",
   "version": "3.7.6"
  }
 },
 "nbformat": 4,
 "nbformat_minor": 2
}
