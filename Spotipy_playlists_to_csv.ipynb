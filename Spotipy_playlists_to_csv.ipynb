{
 "cells": [
  {
   "cell_type": "code",
   "execution_count": null,
   "metadata": {},
   "outputs": [],
   "source": [
    "import sys\n",
    "import spotipy\n",
    "import spotipy.util as util\n",
    "import pandas as pd\n",
    "sp = spotipy.Spotify()\n",
    "\n",
    "username = \"zwamborn\"\n",
    "scope = \"playlist-read-private\"\n",
    "client_id = \"5711bc132b4c48ceb5bbd19cd65b1e63\"\n",
    "client_secret = \"f507991961c948d8bf1b62ae6ef5ab15\"\n",
    "redirect_uri = \"http://localhost\"\n",
    "\n",
    "def get_features(tracks):\n",
    "    dataframe = []\n",
    "    for i, item in enumerate(tracks['items']):\n",
    "        try:\n",
    "            track = item['track']\n",
    "            #get audio features per track\n",
    "            feat = (sp.audio_features(tracks=[track['id']])[0])\n",
    "            #get track and artist info\n",
    "            art_dict = {'artist':track['artists'][0]['name'], 'title':track['name']}\n",
    "            #combine both dictionaries\n",
    "            art_dict.update(feat)\n",
    "            #make dataframe from dictionary\n",
    "            dataframe.append(art_dict)\n",
    "        except:\n",
    "            print(\"Oh no!\",sys.exc_info()[0],\"happend\")\n",
    "    return dataframe\n",
    "\n",
    "token = util.prompt_for_user_token(username,scope,client_id,client_secret,redirect_uri)\n",
    "\n",
    "if token:\n",
    "    top = 40\n",
    "    sp = spotipy.Spotify(auth=token)\n",
    "    playlists = sp.user_playlists(username)\n",
    "    count = 0\n",
    "    for playlist in playlists['items']:\n",
    "        try:\n",
    "            if playlist['owner']['id'] == username:\n",
    "                #get tracks from all playlists\n",
    "                results = sp.user_playlist(username, playlist['id'], fields=\"tracks,next\")\n",
    "                tracks = results['tracks']\n",
    "                #make dataframe with track info and features\n",
    "                data = get_features(tracks)\n",
    "                frame = pd.DataFrame(data)\n",
    "                frame = frame.set_index('title')\n",
    "                #export \n",
    "                filename = playlist['name']+\".csv\"\n",
    "                frame.to_csv(filename)\n",
    "                while tracks['next']:\n",
    "                    tracks = sp.next(tracks)\n",
    "                    get_features(tracks)\n",
    "        except:\n",
    "            print(\"oh no, you've got no tracks\")\n",
    "else:\n",
    "    print(\"Can't get token for\", username)"
   ]
  }
 ],
 "metadata": {
  "kernelspec": {
   "display_name": "Python 3",
   "language": "python",
   "name": "python3"
  },
  "language_info": {
   "codemirror_mode": {
    "name": "ipython",
    "version": 3
   },
   "file_extension": ".py",
   "mimetype": "text/x-python",
   "name": "python",
   "nbconvert_exporter": "python",
   "pygments_lexer": "ipython3",
   "version": "3.7.1"
  }
 },
 "nbformat": 4,
 "nbformat_minor": 2
}
